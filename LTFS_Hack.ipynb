{
  "nbformat": 4,
  "nbformat_minor": 0,
  "metadata": {
    "colab": {
      "name": "LTFS - Hack",
      "provenance": [],
      "include_colab_link": true
    },
    "kernelspec": {
      "name": "python3",
      "display_name": "Python 3"
    }
  },
  "cells": [
    {
      "cell_type": "markdown",
      "metadata": {
        "id": "view-in-github",
        "colab_type": "text"
      },
      "source": [
        "<a href=\"https://colab.research.google.com/github/sathwikneela/AV-LTFS-Data-Science-FinHack-2/blob/master/LTFS_Hack.ipynb\" target=\"_parent\"><img src=\"https://colab.research.google.com/assets/colab-badge.svg\" alt=\"Open In Colab\"/></a>"
      ]
    },
    {
      "cell_type": "code",
      "metadata": {
        "id": "Qt0anGM8s3oh"
      },
      "source": [
        " import numpy as np\n",
        "import pandas as pd\n",
        "import matplotlib.pyplot as plt\n",
        "import seaborn as sns"
      ],
      "execution_count": null,
      "outputs": []
    },
    {
      "cell_type": "code",
      "metadata": {
        "id": "59iWs5ZAtSjB",
        "colab": {
          "base_uri": "https://localhost:8080/",
          "height": 128
        },
        "outputId": "7b696fcb-0c4b-4433-9acb-9a8b5ac981fd"
      },
      "source": [
        "from google.colab import drive\n",
        "drive.mount('/content/drive')"
      ],
      "execution_count": null,
      "outputs": [
        {
          "output_type": "stream",
          "text": [
            "Go to this URL in a browser: https://accounts.google.com/o/oauth2/auth?client_id=947318989803-6bn6qk8qdgf4n4g3pfee6491hc0brc4i.apps.googleusercontent.com&redirect_uri=urn%3aietf%3awg%3aoauth%3a2.0%3aoob&response_type=code&scope=email%20https%3a%2f%2fwww.googleapis.com%2fauth%2fdocs.test%20https%3a%2f%2fwww.googleapis.com%2fauth%2fdrive%20https%3a%2f%2fwww.googleapis.com%2fauth%2fdrive.photos.readonly%20https%3a%2f%2fwww.googleapis.com%2fauth%2fpeopleapi.readonly\n",
            "\n",
            "Enter your authorization code:\n",
            "··········\n",
            "Mounted at /content/drive\n"
          ],
          "name": "stdout"
        }
      ]
    },
    {
      "cell_type": "code",
      "metadata": {
        "id": "I2aD-m7PHlbj"
      },
      "source": [
        "def mean_absolute_percentage_error(y_true,y_pred):\n",
        "  y_true,y_pred = np.array(y_true),np.array(y_pred)\n",
        "  return np.mean(np.abs((y_true-y_pred)/y_true))*100"
      ],
      "execution_count": null,
      "outputs": []
    },
    {
      "cell_type": "code",
      "metadata": {
        "id": "vlhqUZb2vqh0"
      },
      "source": [
        "train = pd.read_csv('/content/drive/My Drive/LTFS/train_fwYjLYX.csv')\n",
        "test = pd.read_csv('/content/drive/My Drive/LTFS/test_1eLl9Yf.csv')"
      ],
      "execution_count": null,
      "outputs": []
    },
    {
      "cell_type": "markdown",
      "metadata": {
        "id": "FF7pOZfct6zI"
      },
      "source": [
        ""
      ]
    },
    {
      "cell_type": "code",
      "metadata": {
        "id": "t9RpS8muv7xK",
        "colab": {
          "base_uri": "https://localhost:8080/",
          "height": 198
        },
        "outputId": "33182d23-b351-450b-fdd6-443b4aa9f82e"
      },
      "source": [
        "train.head()"
      ],
      "execution_count": null,
      "outputs": [
        {
          "output_type": "execute_result",
          "data": {
            "text/html": [
              "<div>\n",
              "<style scoped>\n",
              "    .dataframe tbody tr th:only-of-type {\n",
              "        vertical-align: middle;\n",
              "    }\n",
              "\n",
              "    .dataframe tbody tr th {\n",
              "        vertical-align: top;\n",
              "    }\n",
              "\n",
              "    .dataframe thead th {\n",
              "        text-align: right;\n",
              "    }\n",
              "</style>\n",
              "<table border=\"1\" class=\"dataframe\">\n",
              "  <thead>\n",
              "    <tr style=\"text-align: right;\">\n",
              "      <th></th>\n",
              "      <th>application_date</th>\n",
              "      <th>segment</th>\n",
              "      <th>branch_id</th>\n",
              "      <th>state</th>\n",
              "      <th>zone</th>\n",
              "      <th>case_count</th>\n",
              "    </tr>\n",
              "  </thead>\n",
              "  <tbody>\n",
              "    <tr>\n",
              "      <th>0</th>\n",
              "      <td>2017-04-01</td>\n",
              "      <td>1</td>\n",
              "      <td>1.0</td>\n",
              "      <td>WEST BENGAL</td>\n",
              "      <td>EAST</td>\n",
              "      <td>40.0</td>\n",
              "    </tr>\n",
              "    <tr>\n",
              "      <th>1</th>\n",
              "      <td>2017-04-03</td>\n",
              "      <td>1</td>\n",
              "      <td>1.0</td>\n",
              "      <td>WEST BENGAL</td>\n",
              "      <td>EAST</td>\n",
              "      <td>5.0</td>\n",
              "    </tr>\n",
              "    <tr>\n",
              "      <th>2</th>\n",
              "      <td>2017-04-04</td>\n",
              "      <td>1</td>\n",
              "      <td>1.0</td>\n",
              "      <td>WEST BENGAL</td>\n",
              "      <td>EAST</td>\n",
              "      <td>4.0</td>\n",
              "    </tr>\n",
              "    <tr>\n",
              "      <th>3</th>\n",
              "      <td>2017-04-05</td>\n",
              "      <td>1</td>\n",
              "      <td>1.0</td>\n",
              "      <td>WEST BENGAL</td>\n",
              "      <td>EAST</td>\n",
              "      <td>113.0</td>\n",
              "    </tr>\n",
              "    <tr>\n",
              "      <th>4</th>\n",
              "      <td>2017-04-07</td>\n",
              "      <td>1</td>\n",
              "      <td>1.0</td>\n",
              "      <td>WEST BENGAL</td>\n",
              "      <td>EAST</td>\n",
              "      <td>76.0</td>\n",
              "    </tr>\n",
              "  </tbody>\n",
              "</table>\n",
              "</div>"
            ],
            "text/plain": [
              "  application_date  segment  branch_id        state  zone  case_count\n",
              "0       2017-04-01        1        1.0  WEST BENGAL  EAST        40.0\n",
              "1       2017-04-03        1        1.0  WEST BENGAL  EAST         5.0\n",
              "2       2017-04-04        1        1.0  WEST BENGAL  EAST         4.0\n",
              "3       2017-04-05        1        1.0  WEST BENGAL  EAST       113.0\n",
              "4       2017-04-07        1        1.0  WEST BENGAL  EAST        76.0"
            ]
          },
          "metadata": {
            "tags": []
          },
          "execution_count": 5
        }
      ]
    },
    {
      "cell_type": "code",
      "metadata": {
        "id": "wz52VwO5Jsuq",
        "colab": {
          "base_uri": "https://localhost:8080/",
          "height": 198
        },
        "outputId": "ff88c2d9-e815-427a-d9eb-dd313debb27f"
      },
      "source": [
        "test.head()"
      ],
      "execution_count": null,
      "outputs": [
        {
          "output_type": "execute_result",
          "data": {
            "text/html": [
              "<div>\n",
              "<style scoped>\n",
              "    .dataframe tbody tr th:only-of-type {\n",
              "        vertical-align: middle;\n",
              "    }\n",
              "\n",
              "    .dataframe tbody tr th {\n",
              "        vertical-align: top;\n",
              "    }\n",
              "\n",
              "    .dataframe thead th {\n",
              "        text-align: right;\n",
              "    }\n",
              "</style>\n",
              "<table border=\"1\" class=\"dataframe\">\n",
              "  <thead>\n",
              "    <tr style=\"text-align: right;\">\n",
              "      <th></th>\n",
              "      <th>id</th>\n",
              "      <th>application_date</th>\n",
              "      <th>segment</th>\n",
              "    </tr>\n",
              "  </thead>\n",
              "  <tbody>\n",
              "    <tr>\n",
              "      <th>0</th>\n",
              "      <td>1</td>\n",
              "      <td>2019-07-06</td>\n",
              "      <td>1</td>\n",
              "    </tr>\n",
              "    <tr>\n",
              "      <th>1</th>\n",
              "      <td>2</td>\n",
              "      <td>2019-07-07</td>\n",
              "      <td>1</td>\n",
              "    </tr>\n",
              "    <tr>\n",
              "      <th>2</th>\n",
              "      <td>3</td>\n",
              "      <td>2019-07-08</td>\n",
              "      <td>1</td>\n",
              "    </tr>\n",
              "    <tr>\n",
              "      <th>3</th>\n",
              "      <td>4</td>\n",
              "      <td>2019-07-09</td>\n",
              "      <td>1</td>\n",
              "    </tr>\n",
              "    <tr>\n",
              "      <th>4</th>\n",
              "      <td>5</td>\n",
              "      <td>2019-07-10</td>\n",
              "      <td>1</td>\n",
              "    </tr>\n",
              "  </tbody>\n",
              "</table>\n",
              "</div>"
            ],
            "text/plain": [
              "   id application_date  segment\n",
              "0   1       2019-07-06        1\n",
              "1   2       2019-07-07        1\n",
              "2   3       2019-07-08        1\n",
              "3   4       2019-07-09        1\n",
              "4   5       2019-07-10        1"
            ]
          },
          "metadata": {
            "tags": []
          },
          "execution_count": 6
        }
      ]
    },
    {
      "cell_type": "code",
      "metadata": {
        "id": "Vi2D3OwNIdbU"
      },
      "source": [
        "train['application_date']=pd.to_datetime(train['application_date'],format='%Y-%m-%d')\n",
        "test['application_date']=pd.to_datetime(test['application_date'],format='%Y-%m-%d')\n"
      ],
      "execution_count": null,
      "outputs": []
    },
    {
      "cell_type": "code",
      "metadata": {
        "id": "-bCFCtNXpcPQ"
      },
      "source": [
        "Submission = test[['id','application_date','segment']]\n",
        "test.drop('id')"
      ],
      "execution_count": null,
      "outputs": []
    },
    {
      "cell_type": "code",
      "metadata": {
        "id": "IMIXd5oorybo"
      },
      "source": [
        "df_train = train.copy()\n",
        "df_test = test.copy()"
      ],
      "execution_count": null,
      "outputs": []
    },
    {
      "cell_type": "code",
      "metadata": {
        "id": "TbKEL8biKxW5",
        "colab": {
          "base_uri": "https://localhost:8080/",
          "height": 189
        },
        "outputId": "b2aedab3-c638-45ac-eb56-264bb9b2eb50"
      },
      "source": [
        "train_s1 = train(train['segment']==1).groupby(train['application_date']).sum().reset_index()[['application_date','case_count']].sort_values('application_date')\n",
        "train_s2 = train(train['segment']==2).groupby(train['application_date']).sum()"
      ],
      "execution_count": null,
      "outputs": [
        {
          "output_type": "error",
          "ename": "TypeError",
          "evalue": "ignored",
          "traceback": [
            "\u001b[0;31m---------------------------------------------------------------------------\u001b[0m",
            "\u001b[0;31mTypeError\u001b[0m                                 Traceback (most recent call last)",
            "\u001b[0;32m<ipython-input-8-edce885efc23>\u001b[0m in \u001b[0;36m<module>\u001b[0;34m()\u001b[0m\n\u001b[0;32m----> 1\u001b[0;31m \u001b[0mtrain_s1\u001b[0m \u001b[0;34m=\u001b[0m \u001b[0mtrain\u001b[0m\u001b[0;34m(\u001b[0m\u001b[0mtrain\u001b[0m\u001b[0;34m[\u001b[0m\u001b[0;34m'segment'\u001b[0m\u001b[0;34m]\u001b[0m\u001b[0;34m==\u001b[0m\u001b[0;36m1\u001b[0m\u001b[0;34m)\u001b[0m\u001b[0;34m.\u001b[0m\u001b[0mgroupby\u001b[0m\u001b[0;34m(\u001b[0m\u001b[0mtrain\u001b[0m\u001b[0;34m[\u001b[0m\u001b[0;34m'application_date'\u001b[0m\u001b[0;34m]\u001b[0m\u001b[0;34m)\u001b[0m\u001b[0;34m.\u001b[0m\u001b[0msum\u001b[0m\u001b[0;34m(\u001b[0m\u001b[0;34m)\u001b[0m\u001b[0;34m.\u001b[0m\u001b[0mreset_index\u001b[0m\u001b[0;34m(\u001b[0m\u001b[0;34m)\u001b[0m\u001b[0;34m[\u001b[0m\u001b[0;34m[\u001b[0m\u001b[0;34m'application_date'\u001b[0m\u001b[0;34m,\u001b[0m\u001b[0;34m'case_count'\u001b[0m\u001b[0;34m]\u001b[0m\u001b[0;34m]\u001b[0m\u001b[0;34m.\u001b[0m\u001b[0msort_values\u001b[0m\u001b[0;34m(\u001b[0m\u001b[0;34m'application_date'\u001b[0m\u001b[0;34m)\u001b[0m\u001b[0;34m\u001b[0m\u001b[0;34m\u001b[0m\u001b[0m\n\u001b[0m\u001b[1;32m      2\u001b[0m \u001b[0mtrain_s2\u001b[0m \u001b[0;34m=\u001b[0m \u001b[0mtrain\u001b[0m\u001b[0;34m(\u001b[0m\u001b[0mtrain\u001b[0m\u001b[0;34m[\u001b[0m\u001b[0;34m'segment'\u001b[0m\u001b[0;34m]\u001b[0m\u001b[0;34m==\u001b[0m\u001b[0;36m2\u001b[0m\u001b[0;34m)\u001b[0m\u001b[0;34m.\u001b[0m\u001b[0mgroupby\u001b[0m\u001b[0;34m(\u001b[0m\u001b[0mtrain\u001b[0m\u001b[0;34m[\u001b[0m\u001b[0;34m'application_date'\u001b[0m\u001b[0;34m]\u001b[0m\u001b[0;34m)\u001b[0m\u001b[0;34m.\u001b[0m\u001b[0msum\u001b[0m\u001b[0;34m(\u001b[0m\u001b[0;34m)\u001b[0m\u001b[0;34m\u001b[0m\u001b[0;34m\u001b[0m\u001b[0m\n",
            "\u001b[0;31mTypeError\u001b[0m: 'DataFrame' object is not callable"
          ]
        }
      ]
    },
    {
      "cell_type": "markdown",
      "metadata": {
        "id": "z0LszXO5sA5T"
      },
      "source": [
        "**EDA - Train Data**"
      ]
    },
    {
      "cell_type": "code",
      "metadata": {
        "id": "vfgQMzwDzpWA",
        "colab": {
          "base_uri": "https://localhost:8080/",
          "height": 54
        },
        "outputId": "ad204657-a8a2-402c-ad35-6e4cd504cc4e"
      },
      "source": [
        "print (\"Shape of train is:{}\".format(train.shape))\n",
        "print(\"Shape of test is:{}\".format(test.shape))"
      ],
      "execution_count": null,
      "outputs": [
        {
          "output_type": "stream",
          "text": [
            "Shape of train is:(80402, 6)\n",
            "Shape of test is:(180, 3)\n"
          ],
          "name": "stdout"
        }
      ]
    },
    {
      "cell_type": "code",
      "metadata": {
        "id": "-rlwPWjiz0TQ",
        "colab": {
          "base_uri": "https://localhost:8080/",
          "height": 217
        },
        "outputId": "cc844259-783b-4ad0-c6a0-2542d67515e5"
      },
      "source": [
        "train['branch_id'].value_counts().head(10)"
      ],
      "execution_count": null,
      "outputs": [
        {
          "output_type": "execute_result",
          "data": {
            "text/plain": [
              "159.0    806\n",
              "29.0     806\n",
              "67.0     806\n",
              "269.0    806\n",
              "74.0     806\n",
              "268.0    806\n",
              "135.0    806\n",
              "62.0     806\n",
              "271.0    806\n",
              "17.0     806\n",
              "Name: branch_id, dtype: int64"
            ]
          },
          "metadata": {
            "tags": []
          },
          "execution_count": 10
        }
      ]
    },
    {
      "cell_type": "code",
      "metadata": {
        "id": "cAj2bynKa5Km",
        "colab": {
          "base_uri": "https://localhost:8080/",
          "height": 35
        },
        "outputId": "f06fa836-2d06-428c-fe22-51dff060dc9c"
      },
      "source": [
        "train['branch_id'].isnull().sum()"
      ],
      "execution_count": null,
      "outputs": [
        {
          "output_type": "execute_result",
          "data": {
            "text/plain": [
              "13504"
            ]
          },
          "metadata": {
            "tags": []
          },
          "execution_count": 11
        }
      ]
    },
    {
      "cell_type": "code",
      "metadata": {
        "id": "5WZqWujxb4_8",
        "colab": {
          "base_uri": "https://localhost:8080/",
          "height": 217
        },
        "outputId": "bca30fab-d415-4004-a261-6dbce9f63159"
      },
      "source": [
        "train.info(memory_usage='deep')"
      ],
      "execution_count": null,
      "outputs": [
        {
          "output_type": "stream",
          "text": [
            "<class 'pandas.core.frame.DataFrame'>\n",
            "RangeIndex: 80402 entries, 0 to 80401\n",
            "Data columns (total 6 columns):\n",
            "application_date    80402 non-null datetime64[ns]\n",
            "segment             80402 non-null int64\n",
            "branch_id           66898 non-null float64\n",
            "state               80402 non-null object\n",
            "zone                66898 non-null object\n",
            "case_count          80402 non-null float64\n",
            "dtypes: datetime64[ns](1), float64(2), int64(1), object(2)\n",
            "memory usage: 11.9 MB\n"
          ],
          "name": "stdout"
        }
      ]
    },
    {
      "cell_type": "code",
      "metadata": {
        "id": "soFsEcgacGil",
        "colab": {
          "base_uri": "https://localhost:8080/",
          "height": 35
        },
        "outputId": "472ccb94-a76f-4b87-dd56-4592451e6859"
      },
      "source": [
        "train['application_date'].max(),train['application_date'].min()"
      ],
      "execution_count": null,
      "outputs": [
        {
          "output_type": "execute_result",
          "data": {
            "text/plain": [
              "(Timestamp('2019-07-23 00:00:00'), Timestamp('2017-04-01 00:00:00'))"
            ]
          },
          "metadata": {
            "tags": []
          },
          "execution_count": 13
        }
      ]
    },
    {
      "cell_type": "code",
      "metadata": {
        "id": "3SiD5-Nfc2Ah",
        "colab": {
          "base_uri": "https://localhost:8080/",
          "height": 313
        },
        "outputId": "bb1dad15-1fae-4010-8e39-529f0939fd35"
      },
      "source": [
        "sns.countplot(train['segment'],order=train['segment'].value_counts().index)\n",
        "plt.title(\"Distribution of segment variable\")\n",
        "plt.xlabel(\"Segment\")\n",
        "plt.ylabel(\"Count\")"
      ],
      "execution_count": null,
      "outputs": [
        {
          "output_type": "execute_result",
          "data": {
            "text/plain": [
              "Text(0, 0.5, 'Count')"
            ]
          },
          "metadata": {
            "tags": []
          },
          "execution_count": 14
        },
        {
          "output_type": "display_data",
          "data": {
            "image/png": "[encoded data removed]",
            "text/plain": [
              "<Figure size 432x288 with 1 Axes>"
            ]
          },
          "metadata": {
            "tags": []
          }
        }
      ]
    },
    {
      "cell_type": "code",
      "metadata": {
        "id": "ImhsFrwsdbB5",
        "colab": {
          "base_uri": "https://localhost:8080/",
          "height": 217
        },
        "outputId": "05d48eb4-48f6-4ab4-9d99-52d882f77669"
      },
      "source": [
        "train['branch_id'].value_counts(dropna=False).head(10)"
      ],
      "execution_count": null,
      "outputs": [
        {
          "output_type": "execute_result",
          "data": {
            "text/plain": [
              "NaN      13504\n",
              "159.0      806\n",
              "17.0       806\n",
              "67.0       806\n",
              "269.0      806\n",
              "74.0       806\n",
              "268.0      806\n",
              "135.0      806\n",
              "62.0       806\n",
              "271.0      806\n",
              "Name: branch_id, dtype: int64"
            ]
          },
          "metadata": {
            "tags": []
          },
          "execution_count": 15
        }
      ]
    },
    {
      "cell_type": "code",
      "metadata": {
        "id": "YL2Zh373d6dh",
        "colab": {
          "base_uri": "https://localhost:8080/",
          "height": 35
        },
        "outputId": "d2de3e79-2fad-4cd1-ef04-035109c504ae"
      },
      "source": [
        "print(\"No of Unique branch_id's in training data are:{}\".format(train['branch_id'].nunique()))"
      ],
      "execution_count": null,
      "outputs": [
        {
          "output_type": "stream",
          "text": [
            "No of Unique branch_id's in training data are:83\n"
          ],
          "name": "stdout"
        }
      ]
    },
    {
      "cell_type": "code",
      "metadata": {
        "id": "q6Jw7BvQd16t",
        "colab": {
          "base_uri": "https://localhost:8080/",
          "height": 422
        },
        "outputId": "4dfd9f80-9b3d-40f9-ce65-38cc94fde881"
      },
      "source": [
        "plt.figure(figsize=(25,6))\n",
        "sns.countplot(train['state'],order=train['state'].value_counts(dropna = False).index)\n",
        "plt.title(\"Distribution of state variable\")\n",
        "plt.xlabel('state')\n",
        "plt.ylabel(\"count\")"
      ],
      "execution_count": null,
      "outputs": [
        {
          "output_type": "execute_result",
          "data": {
            "text/plain": [
              "Text(0, 0.5, 'count')"
            ]
          },
          "metadata": {
            "tags": []
          },
          "execution_count": 17
        },
        {
          "output_type": "display_data",
          "data": {
            "image/png": "[encoded data removed]",
            "text/plain": [
              "<Figure size 1800x432 with 1 Axes>"
            ]
          },
          "metadata": {
            "tags": []
          }
        }
      ]
    },
    {
      "cell_type": "code",
      "metadata": {
        "id": "GSdIpAP9tzkE",
        "colab": {
          "base_uri": "https://localhost:8080/",
          "height": 349
        },
        "outputId": "907369e9-735b-427e-b66c-ed6a2431772b"
      },
      "source": [
        "train['zone'].value_counts(dropna = False).plot(kind='bar')\n",
        "plt.title(\"Distribution of zone variable\")\n",
        "plt.xlabel(\"Zone\")\n",
        "plt.ylabel(\"count\")"
      ],
      "execution_count": null,
      "outputs": [
        {
          "output_type": "execute_result",
          "data": {
            "text/plain": [
              "Text(0, 0.5, 'count')"
            ]
          },
          "metadata": {
            "tags": []
          },
          "execution_count": 18
        },
        {
          "output_type": "display_data",
          "data": {
            "image/png": "[encoded data removed]",
            "text/plain": [
              "<Figure size 432x288 with 1 Axes>"
            ]
          },
          "metadata": {
            "tags": []
          }
        }
      ]
    },
    {
      "cell_type": "code",
      "metadata": {
        "id": "oF72UtxwdyUP",
        "colab": {
          "base_uri": "https://localhost:8080/",
          "height": 181
        },
        "outputId": "0feb1c5c-615e-4250-81df-18bea99e7f25"
      },
      "source": [
        "train['case_count'].describe()"
      ],
      "execution_count": null,
      "outputs": [
        {
          "output_type": "execute_result",
          "data": {
            "text/plain": [
              "count    80402.000000\n",
              "mean       185.481841\n",
              "std        749.602925\n",
              "min          0.000000\n",
              "25%          0.000000\n",
              "50%         18.000000\n",
              "75%         60.000000\n",
              "max      13787.000000\n",
              "Name: case_count, dtype: float64"
            ]
          },
          "metadata": {
            "tags": []
          },
          "execution_count": 19
        }
      ]
    },
    {
      "cell_type": "code",
      "metadata": {
        "id": "N_t6jkcfdKD-",
        "colab": {
          "base_uri": "https://localhost:8080/",
          "height": 298
        },
        "outputId": "24786fee-ca55-4775-c47c-4b5139beb856"
      },
      "source": [
        "sns.distplot(np.log1p(train['case_count']),kde= False,bins=50)"
      ],
      "execution_count": null,
      "outputs": [
        {
          "output_type": "execute_result",
          "data": {
            "text/plain": [
              "<matplotlib.axes._subplots.AxesSubplot at 0x7f10412b3e10>"
            ]
          },
          "metadata": {
            "tags": []
          },
          "execution_count": 20
        },
        {
          "output_type": "display_data",
          "data": {
            "image/png": "[encoded data removed]",
            "text/plain": [
              "<Figure size 432x288 with 1 Axes>"
            ]
          },
          "metadata": {
            "tags": []
          }
        }
      ]
    },
    {
      "cell_type": "markdown",
      "metadata": {
        "id": "GrmUvu9uOL0k"
      },
      "source": [
        "**Bi-Variate Analysis**\n",
        "\n"
      ]
    },
    {
      "cell_type": "code",
      "metadata": {
        "id": "l_63DoN8wDhd",
        "colab": {
          "base_uri": "https://localhost:8080/",
          "height": 138
        },
        "outputId": "74901364-79f6-4a53-87ec-03d6326c1dfc"
      },
      "source": [
        "train.groupby('segment')['case_count'].agg(['count','min','max','mean','median','std','sum'])\n",
        "#we can see the max value belongs to segment 2\n",
        "#all the values for segment 2 are higher than segment 1"
      ],
      "execution_count": null,
      "outputs": [
        {
          "output_type": "execute_result",
          "data": {
            "text/html": [
              "<div>\n",
              "<style scoped>\n",
              "    .dataframe tbody tr th:only-of-type {\n",
              "        vertical-align: middle;\n",
              "    }\n",
              "\n",
              "    .dataframe tbody tr th {\n",
              "        vertical-align: top;\n",
              "    }\n",
              "\n",
              "    .dataframe thead th {\n",
              "        text-align: right;\n",
              "    }\n",
              "</style>\n",
              "<table border=\"1\" class=\"dataframe\">\n",
              "  <thead>\n",
              "    <tr style=\"text-align: right;\">\n",
              "      <th></th>\n",
              "      <th>count</th>\n",
              "      <th>min</th>\n",
              "      <th>max</th>\n",
              "      <th>mean</th>\n",
              "      <th>median</th>\n",
              "      <th>std</th>\n",
              "      <th>sum</th>\n",
              "    </tr>\n",
              "    <tr>\n",
              "      <th>segment</th>\n",
              "      <th></th>\n",
              "      <th></th>\n",
              "      <th></th>\n",
              "      <th></th>\n",
              "      <th></th>\n",
              "      <th></th>\n",
              "      <th></th>\n",
              "    </tr>\n",
              "  </thead>\n",
              "  <tbody>\n",
              "    <tr>\n",
              "      <th>1</th>\n",
              "      <td>66898</td>\n",
              "      <td>0.0</td>\n",
              "      <td>1890.0</td>\n",
              "      <td>32.707106</td>\n",
              "      <td>14.0</td>\n",
              "      <td>61.591868</td>\n",
              "      <td>2188040.0</td>\n",
              "    </tr>\n",
              "    <tr>\n",
              "      <th>2</th>\n",
              "      <td>13504</td>\n",
              "      <td>0.0</td>\n",
              "      <td>13787.0</td>\n",
              "      <td>942.318646</td>\n",
              "      <td>371.0</td>\n",
              "      <td>1624.339623</td>\n",
              "      <td>12725071.0</td>\n",
              "    </tr>\n",
              "  </tbody>\n",
              "</table>\n",
              "</div>"
            ],
            "text/plain": [
              "         count  min      max        mean  median          std         sum\n",
              "segment                                                                  \n",
              "1        66898  0.0   1890.0   32.707106    14.0    61.591868   2188040.0\n",
              "2        13504  0.0  13787.0  942.318646   371.0  1624.339623  12725071.0"
            ]
          },
          "metadata": {
            "tags": []
          },
          "execution_count": 21
        }
      ]
    },
    {
      "cell_type": "code",
      "metadata": {
        "id": "k9A4LeSZsqHj",
        "colab": {
          "base_uri": "https://localhost:8080/",
          "height": 678
        },
        "outputId": "e4431b8f-78a1-4c0c-eb4c-691a26e38af5"
      },
      "source": [
        "train.groupby('state')['case_count'].agg(['count','min','max','mean','median','std','sum']).sort_values(by = 'count')\n",
        "\n",
        "# We can see that the count of maharashtra is highest, but all the case_counts's are highest for tamilnadu"
      ],
      "execution_count": null,
      "outputs": [
        {
          "output_type": "execute_result",
          "data": {
            "text/html": [
              "<div>\n",
              "<style scoped>\n",
              "    .dataframe tbody tr th:only-of-type {\n",
              "        vertical-align: middle;\n",
              "    }\n",
              "\n",
              "    .dataframe tbody tr th {\n",
              "        vertical-align: top;\n",
              "    }\n",
              "\n",
              "    .dataframe thead th {\n",
              "        text-align: right;\n",
              "    }\n",
              "</style>\n",
              "<table border=\"1\" class=\"dataframe\">\n",
              "  <thead>\n",
              "    <tr style=\"text-align: right;\">\n",
              "      <th></th>\n",
              "      <th>count</th>\n",
              "      <th>min</th>\n",
              "      <th>max</th>\n",
              "      <th>mean</th>\n",
              "      <th>median</th>\n",
              "      <th>std</th>\n",
              "      <th>sum</th>\n",
              "    </tr>\n",
              "    <tr>\n",
              "      <th>state</th>\n",
              "      <th></th>\n",
              "      <th></th>\n",
              "      <th></th>\n",
              "      <th></th>\n",
              "      <th></th>\n",
              "      <th></th>\n",
              "      <th></th>\n",
              "    </tr>\n",
              "  </thead>\n",
              "  <tbody>\n",
              "    <tr>\n",
              "      <th>DELHI</th>\n",
              "      <td>806</td>\n",
              "      <td>0.0</td>\n",
              "      <td>1488.0</td>\n",
              "      <td>168.486352</td>\n",
              "      <td>136.0</td>\n",
              "      <td>148.757794</td>\n",
              "      <td>135800.0</td>\n",
              "    </tr>\n",
              "    <tr>\n",
              "      <th>UTTARAKHAND</th>\n",
              "      <td>1612</td>\n",
              "      <td>0.0</td>\n",
              "      <td>383.0</td>\n",
              "      <td>24.782258</td>\n",
              "      <td>20.0</td>\n",
              "      <td>27.525605</td>\n",
              "      <td>39949.0</td>\n",
              "    </tr>\n",
              "    <tr>\n",
              "      <th>TELANGANA</th>\n",
              "      <td>1612</td>\n",
              "      <td>0.0</td>\n",
              "      <td>1038.0</td>\n",
              "      <td>56.153226</td>\n",
              "      <td>0.0</td>\n",
              "      <td>88.913544</td>\n",
              "      <td>90519.0</td>\n",
              "    </tr>\n",
              "    <tr>\n",
              "      <th>KERALA</th>\n",
              "      <td>1650</td>\n",
              "      <td>0.0</td>\n",
              "      <td>3369.0</td>\n",
              "      <td>496.008485</td>\n",
              "      <td>39.5</td>\n",
              "      <td>722.016808</td>\n",
              "      <td>818414.0</td>\n",
              "    </tr>\n",
              "    <tr>\n",
              "      <th>CHHATTISGARH</th>\n",
              "      <td>1650</td>\n",
              "      <td>0.0</td>\n",
              "      <td>1111.0</td>\n",
              "      <td>181.298788</td>\n",
              "      <td>22.5</td>\n",
              "      <td>241.012685</td>\n",
              "      <td>299143.0</td>\n",
              "    </tr>\n",
              "    <tr>\n",
              "      <th>MADHYA PRADESH</th>\n",
              "      <td>1650</td>\n",
              "      <td>0.0</td>\n",
              "      <td>2350.0</td>\n",
              "      <td>348.672121</td>\n",
              "      <td>87.0</td>\n",
              "      <td>455.859267</td>\n",
              "      <td>575309.0</td>\n",
              "    </tr>\n",
              "    <tr>\n",
              "      <th>TRIPURA</th>\n",
              "      <td>2456</td>\n",
              "      <td>0.0</td>\n",
              "      <td>997.0</td>\n",
              "      <td>82.313111</td>\n",
              "      <td>32.0</td>\n",
              "      <td>142.665541</td>\n",
              "      <td>202161.0</td>\n",
              "    </tr>\n",
              "    <tr>\n",
              "      <th>JHARKHAND</th>\n",
              "      <td>2456</td>\n",
              "      <td>0.0</td>\n",
              "      <td>833.0</td>\n",
              "      <td>69.036645</td>\n",
              "      <td>20.0</td>\n",
              "      <td>137.794878</td>\n",
              "      <td>169554.0</td>\n",
              "    </tr>\n",
              "    <tr>\n",
              "      <th>BIHAR</th>\n",
              "      <td>3262</td>\n",
              "      <td>0.0</td>\n",
              "      <td>7691.0</td>\n",
              "      <td>419.025445</td>\n",
              "      <td>25.0</td>\n",
              "      <td>1111.541528</td>\n",
              "      <td>1366861.0</td>\n",
              "    </tr>\n",
              "    <tr>\n",
              "      <th>KARNATAKA</th>\n",
              "      <td>3262</td>\n",
              "      <td>0.0</td>\n",
              "      <td>5202.0</td>\n",
              "      <td>519.345494</td>\n",
              "      <td>35.0</td>\n",
              "      <td>972.285346</td>\n",
              "      <td>1694105.0</td>\n",
              "    </tr>\n",
              "    <tr>\n",
              "      <th>ORISSA</th>\n",
              "      <td>3262</td>\n",
              "      <td>0.0</td>\n",
              "      <td>5831.0</td>\n",
              "      <td>408.938688</td>\n",
              "      <td>45.0</td>\n",
              "      <td>950.226384</td>\n",
              "      <td>1333958.0</td>\n",
              "    </tr>\n",
              "    <tr>\n",
              "      <th>ASSAM</th>\n",
              "      <td>4068</td>\n",
              "      <td>0.0</td>\n",
              "      <td>3208.0</td>\n",
              "      <td>187.618240</td>\n",
              "      <td>28.0</td>\n",
              "      <td>454.378089</td>\n",
              "      <td>763231.0</td>\n",
              "    </tr>\n",
              "    <tr>\n",
              "      <th>HARYANA</th>\n",
              "      <td>4068</td>\n",
              "      <td>0.0</td>\n",
              "      <td>118.0</td>\n",
              "      <td>2.961652</td>\n",
              "      <td>0.0</td>\n",
              "      <td>7.547701</td>\n",
              "      <td>12048.0</td>\n",
              "    </tr>\n",
              "    <tr>\n",
              "      <th>ANDHRA PRADESH</th>\n",
              "      <td>4836</td>\n",
              "      <td>0.0</td>\n",
              "      <td>179.0</td>\n",
              "      <td>3.517370</td>\n",
              "      <td>0.0</td>\n",
              "      <td>8.804760</td>\n",
              "      <td>17010.0</td>\n",
              "    </tr>\n",
              "    <tr>\n",
              "      <th>PUNJAB</th>\n",
              "      <td>4874</td>\n",
              "      <td>0.0</td>\n",
              "      <td>448.0</td>\n",
              "      <td>14.948502</td>\n",
              "      <td>8.0</td>\n",
              "      <td>25.272373</td>\n",
              "      <td>72859.0</td>\n",
              "    </tr>\n",
              "    <tr>\n",
              "      <th>TAMIL NADU</th>\n",
              "      <td>6486</td>\n",
              "      <td>0.0</td>\n",
              "      <td>13787.0</td>\n",
              "      <td>634.457601</td>\n",
              "      <td>11.0</td>\n",
              "      <td>2032.364822</td>\n",
              "      <td>4115092.0</td>\n",
              "    </tr>\n",
              "    <tr>\n",
              "      <th>UTTAR PRADESH</th>\n",
              "      <td>6486</td>\n",
              "      <td>0.0</td>\n",
              "      <td>1203.0</td>\n",
              "      <td>43.638760</td>\n",
              "      <td>0.0</td>\n",
              "      <td>131.554427</td>\n",
              "      <td>283041.0</td>\n",
              "    </tr>\n",
              "    <tr>\n",
              "      <th>GUJARAT</th>\n",
              "      <td>7292</td>\n",
              "      <td>0.0</td>\n",
              "      <td>1890.0</td>\n",
              "      <td>84.943774</td>\n",
              "      <td>25.0</td>\n",
              "      <td>151.453904</td>\n",
              "      <td>619410.0</td>\n",
              "    </tr>\n",
              "    <tr>\n",
              "      <th>WEST BENGAL</th>\n",
              "      <td>7292</td>\n",
              "      <td>0.0</td>\n",
              "      <td>4962.0</td>\n",
              "      <td>212.441306</td>\n",
              "      <td>40.0</td>\n",
              "      <td>580.958702</td>\n",
              "      <td>1549122.0</td>\n",
              "    </tr>\n",
              "    <tr>\n",
              "      <th>MAHARASHTRA</th>\n",
              "      <td>11322</td>\n",
              "      <td>0.0</td>\n",
              "      <td>1754.0</td>\n",
              "      <td>66.730701</td>\n",
              "      <td>27.0</td>\n",
              "      <td>124.410140</td>\n",
              "      <td>755525.0</td>\n",
              "    </tr>\n",
              "  </tbody>\n",
              "</table>\n",
              "</div>"
            ],
            "text/plain": [
              "                count  min      max        mean  median          std        sum\n",
              "state                                                                          \n",
              "DELHI             806  0.0   1488.0  168.486352   136.0   148.757794   135800.0\n",
              "UTTARAKHAND      1612  0.0    383.0   24.782258    20.0    27.525605    39949.0\n",
              "TELANGANA        1612  0.0   1038.0   56.153226     0.0    88.913544    90519.0\n",
              "KERALA           1650  0.0   3369.0  496.008485    39.5   722.016808   818414.0\n",
              "CHHATTISGARH     1650  0.0   1111.0  181.298788    22.5   241.012685   299143.0\n",
              "MADHYA PRADESH   1650  0.0   2350.0  348.672121    87.0   455.859267   575309.0\n",
              "TRIPURA          2456  0.0    997.0   82.313111    32.0   142.665541   202161.0\n",
              "JHARKHAND        2456  0.0    833.0   69.036645    20.0   137.794878   169554.0\n",
              "BIHAR            3262  0.0   7691.0  419.025445    25.0  1111.541528  1366861.0\n",
              "KARNATAKA        3262  0.0   5202.0  519.345494    35.0   972.285346  1694105.0\n",
              "ORISSA           3262  0.0   5831.0  408.938688    45.0   950.226384  1333958.0\n",
              "ASSAM            4068  0.0   3208.0  187.618240    28.0   454.378089   763231.0\n",
              "HARYANA          4068  0.0    118.0    2.961652     0.0     7.547701    12048.0\n",
              "ANDHRA PRADESH   4836  0.0    179.0    3.517370     0.0     8.804760    17010.0\n",
              "PUNJAB           4874  0.0    448.0   14.948502     8.0    25.272373    72859.0\n",
              "TAMIL NADU       6486  0.0  13787.0  634.457601    11.0  2032.364822  4115092.0\n",
              "UTTAR PRADESH    6486  0.0   1203.0   43.638760     0.0   131.554427   283041.0\n",
              "GUJARAT          7292  0.0   1890.0   84.943774    25.0   151.453904   619410.0\n",
              "WEST BENGAL      7292  0.0   4962.0  212.441306    40.0   580.958702  1549122.0\n",
              "MAHARASHTRA     11322  0.0   1754.0   66.730701    27.0   124.410140   755525.0"
            ]
          },
          "metadata": {
            "tags": []
          },
          "execution_count": 22
        }
      ]
    },
    {
      "cell_type": "code",
      "metadata": {
        "id": "dmQ5CIZTs2tE",
        "colab": {
          "base_uri": "https://localhost:8080/",
          "height": 382
        },
        "outputId": "14bcfe6d-4cbf-4307-a40e-fd7ac65a4aef"
      },
      "source": [
        "train.groupby('state')['case_count'].sum().sort_values().plot(kind = 'bar')"
      ],
      "execution_count": null,
      "outputs": [
        {
          "output_type": "execute_result",
          "data": {
            "text/plain": [
              "<matplotlib.axes._subplots.AxesSubplot at 0x7f10411c85f8>"
            ]
          },
          "metadata": {
            "tags": []
          },
          "execution_count": 23
        },
        {
          "output_type": "display_data",
          "data": {
            "image/png": "[encoded data removed]",
            "text/plain": [
              "<Figure size 432x288 with 1 Axes>"
            ]
          },
          "metadata": {
            "tags": []
          }
        }
      ]
    },
    {
      "cell_type": "code",
      "metadata": {
        "id": "58zb1UCyvkDr",
        "colab": {
          "base_uri": "https://localhost:8080/",
          "height": 333
        },
        "outputId": "4b4b1b06-26df-4b9e-d731-92c64eebebfa"
      },
      "source": [
        "train.groupby('zone')['case_count'].sum().sort_values().plot(kind = 'bar')"
      ],
      "execution_count": null,
      "outputs": [
        {
          "output_type": "execute_result",
          "data": {
            "text/plain": [
              "<matplotlib.axes._subplots.AxesSubplot at 0x7f10411957b8>"
            ]
          },
          "metadata": {
            "tags": []
          },
          "execution_count": 24
        },
        {
          "output_type": "display_data",
          "data": {
            "image/png": "[encoded data removed]",
            "text/plain": [
              "<Figure size 432x288 with 1 Axes>"
            ]
          },
          "metadata": {
            "tags": []
          }
        }
      ]
    },
    {
      "cell_type": "code",
      "metadata": {
        "id": "BKs9G0Rwvyp3",
        "colab": {
          "base_uri": "https://localhost:8080/",
          "height": 228
        },
        "outputId": "d4165dfb-e139-4c54-d132-87851735b4d9"
      },
      "source": [
        "train.groupby('zone')['case_count'].agg(['count','min','max','mean','median','std','sum']).sort_values(by = 'count')\n",
        "# Even here, although the counts of East zone is highest, we can see the maximum case counts for south is highest"
      ],
      "execution_count": null,
      "outputs": [
        {
          "output_type": "execute_result",
          "data": {
            "text/html": [
              "<div>\n",
              "<style scoped>\n",
              "    .dataframe tbody tr th:only-of-type {\n",
              "        vertical-align: middle;\n",
              "    }\n",
              "\n",
              "    .dataframe tbody tr th {\n",
              "        vertical-align: top;\n",
              "    }\n",
              "\n",
              "    .dataframe thead th {\n",
              "        text-align: right;\n",
              "    }\n",
              "</style>\n",
              "<table border=\"1\" class=\"dataframe\">\n",
              "  <thead>\n",
              "    <tr style=\"text-align: right;\">\n",
              "      <th></th>\n",
              "      <th>count</th>\n",
              "      <th>min</th>\n",
              "      <th>max</th>\n",
              "      <th>mean</th>\n",
              "      <th>median</th>\n",
              "      <th>std</th>\n",
              "      <th>sum</th>\n",
              "    </tr>\n",
              "    <tr>\n",
              "      <th>zone</th>\n",
              "      <th></th>\n",
              "      <th></th>\n",
              "      <th></th>\n",
              "      <th></th>\n",
              "      <th></th>\n",
              "      <th></th>\n",
              "      <th></th>\n",
              "    </tr>\n",
              "  </thead>\n",
              "  <tbody>\n",
              "    <tr>\n",
              "      <th>CENTRAL</th>\n",
              "      <td>1612</td>\n",
              "      <td>0.0</td>\n",
              "      <td>609.0</td>\n",
              "      <td>23.082506</td>\n",
              "      <td>11.0</td>\n",
              "      <td>36.657118</td>\n",
              "      <td>37209.0</td>\n",
              "    </tr>\n",
              "    <tr>\n",
              "      <th>NORTH</th>\n",
              "      <td>8060</td>\n",
              "      <td>0.0</td>\n",
              "      <td>1488.0</td>\n",
              "      <td>27.383002</td>\n",
              "      <td>6.0</td>\n",
              "      <td>69.671582</td>\n",
              "      <td>220707.0</td>\n",
              "    </tr>\n",
              "    <tr>\n",
              "      <th>WEST</th>\n",
              "      <td>16926</td>\n",
              "      <td>0.0</td>\n",
              "      <td>1890.0</td>\n",
              "      <td>46.985053</td>\n",
              "      <td>23.0</td>\n",
              "      <td>77.373460</td>\n",
              "      <td>795269.0</td>\n",
              "    </tr>\n",
              "    <tr>\n",
              "      <th>SOUTH</th>\n",
              "      <td>18538</td>\n",
              "      <td>0.0</td>\n",
              "      <td>1143.0</td>\n",
              "      <td>26.973784</td>\n",
              "      <td>8.0</td>\n",
              "      <td>54.089844</td>\n",
              "      <td>500040.0</td>\n",
              "    </tr>\n",
              "    <tr>\n",
              "      <th>EAST</th>\n",
              "      <td>21762</td>\n",
              "      <td>0.0</td>\n",
              "      <td>1657.0</td>\n",
              "      <td>29.170802</td>\n",
              "      <td>16.0</td>\n",
              "      <td>48.989433</td>\n",
              "      <td>634815.0</td>\n",
              "    </tr>\n",
              "  </tbody>\n",
              "</table>\n",
              "</div>"
            ],
            "text/plain": [
              "         count  min     max       mean  median        std       sum\n",
              "zone                                                               \n",
              "CENTRAL   1612  0.0   609.0  23.082506    11.0  36.657118   37209.0\n",
              "NORTH     8060  0.0  1488.0  27.383002     6.0  69.671582  220707.0\n",
              "WEST     16926  0.0  1890.0  46.985053    23.0  77.373460  795269.0\n",
              "SOUTH    18538  0.0  1143.0  26.973784     8.0  54.089844  500040.0\n",
              "EAST     21762  0.0  1657.0  29.170802    16.0  48.989433  634815.0"
            ]
          },
          "metadata": {
            "tags": []
          },
          "execution_count": 25
        }
      ]
    },
    {
      "cell_type": "code",
      "metadata": {
        "id": "HGXgKf3ZwCtZ"
      },
      "source": [
        "#creating some datetime based features\n",
        "train['year'] = train.application_date.dt.year\n",
        "train['month']=train.application_date.dt.month\n",
        "train['week']=train.application_date.dt.week\n",
        "train['day_of_week'] = train.application_date.dt.dayofweek\n",
        "train['quarter'] = train.application_date.dt.quarter\n",
        "train['day'] = train.application_date.dt.day\n",
        "train['is_month_start'] = train.application_date.dt.is_month_start\n",
        "train['is_month_end'] = train.application_date.dt.is_month_end\n",
        "train['is_quarter_start'] = train.application_date.dt.is_quarter_start\n",
        "train['is_quarter_end']=train.application_date.dt.is_quarter_end"
      ],
      "execution_count": null,
      "outputs": []
    },
    {
      "cell_type": "code",
      "metadata": {
        "id": "KiQ7J1qFx3uZ",
        "colab": {
          "base_uri": "https://localhost:8080/",
          "height": 198
        },
        "outputId": "3adceac9-3237-47ef-edeb-fad8835211d5"
      },
      "source": [
        "train.head()"
      ],
      "execution_count": null,
      "outputs": [
        {
          "output_type": "execute_result",
          "data": {
            "text/html": [
              "<div>\n",
              "<style scoped>\n",
              "    .dataframe tbody tr th:only-of-type {\n",
              "        vertical-align: middle;\n",
              "    }\n",
              "\n",
              "    .dataframe tbody tr th {\n",
              "        vertical-align: top;\n",
              "    }\n",
              "\n",
              "    .dataframe thead th {\n",
              "        text-align: right;\n",
              "    }\n",
              "</style>\n",
              "<table border=\"1\" class=\"dataframe\">\n",
              "  <thead>\n",
              "    <tr style=\"text-align: right;\">\n",
              "      <th></th>\n",
              "      <th>application_date</th>\n",
              "      <th>segment</th>\n",
              "      <th>branch_id</th>\n",
              "      <th>state</th>\n",
              "      <th>zone</th>\n",
              "      <th>case_count</th>\n",
              "      <th>year</th>\n",
              "      <th>month</th>\n",
              "      <th>week</th>\n",
              "      <th>day_of_week</th>\n",
              "      <th>quarter</th>\n",
              "      <th>day</th>\n",
              "      <th>is_month_start</th>\n",
              "      <th>is_month_end</th>\n",
              "      <th>is_quarter_start</th>\n",
              "      <th>is_quarter_end</th>\n",
              "    </tr>\n",
              "  </thead>\n",
              "  <tbody>\n",
              "    <tr>\n",
              "      <th>0</th>\n",
              "      <td>2017-04-01</td>\n",
              "      <td>1</td>\n",
              "      <td>1.0</td>\n",
              "      <td>WEST BENGAL</td>\n",
              "      <td>EAST</td>\n",
              "      <td>40.0</td>\n",
              "      <td>2017</td>\n",
              "      <td>4</td>\n",
              "      <td>13</td>\n",
              "      <td>5</td>\n",
              "      <td>2</td>\n",
              "      <td>1</td>\n",
              "      <td>True</td>\n",
              "      <td>False</td>\n",
              "      <td>True</td>\n",
              "      <td>False</td>\n",
              "    </tr>\n",
              "    <tr>\n",
              "      <th>1</th>\n",
              "      <td>2017-04-03</td>\n",
              "      <td>1</td>\n",
              "      <td>1.0</td>\n",
              "      <td>WEST BENGAL</td>\n",
              "      <td>EAST</td>\n",
              "      <td>5.0</td>\n",
              "      <td>2017</td>\n",
              "      <td>4</td>\n",
              "      <td>14</td>\n",
              "      <td>0</td>\n",
              "      <td>2</td>\n",
              "      <td>3</td>\n",
              "      <td>False</td>\n",
              "      <td>False</td>\n",
              "      <td>False</td>\n",
              "      <td>False</td>\n",
              "    </tr>\n",
              "    <tr>\n",
              "      <th>2</th>\n",
              "      <td>2017-04-04</td>\n",
              "      <td>1</td>\n",
              "      <td>1.0</td>\n",
              "      <td>WEST BENGAL</td>\n",
              "      <td>EAST</td>\n",
              "      <td>4.0</td>\n",
              "      <td>2017</td>\n",
              "      <td>4</td>\n",
              "      <td>14</td>\n",
              "      <td>1</td>\n",
              "      <td>2</td>\n",
              "      <td>4</td>\n",
              "      <td>False</td>\n",
              "      <td>False</td>\n",
              "      <td>False</td>\n",
              "      <td>False</td>\n",
              "    </tr>\n",
              "    <tr>\n",
              "      <th>3</th>\n",
              "      <td>2017-04-05</td>\n",
              "      <td>1</td>\n",
              "      <td>1.0</td>\n",
              "      <td>WEST BENGAL</td>\n",
              "      <td>EAST</td>\n",
              "      <td>113.0</td>\n",
              "      <td>2017</td>\n",
              "      <td>4</td>\n",
              "      <td>14</td>\n",
              "      <td>2</td>\n",
              "      <td>2</td>\n",
              "      <td>5</td>\n",
              "      <td>False</td>\n",
              "      <td>False</td>\n",
              "      <td>False</td>\n",
              "      <td>False</td>\n",
              "    </tr>\n",
              "    <tr>\n",
              "      <th>4</th>\n",
              "      <td>2017-04-07</td>\n",
              "      <td>1</td>\n",
              "      <td>1.0</td>\n",
              "      <td>WEST BENGAL</td>\n",
              "      <td>EAST</td>\n",
              "      <td>76.0</td>\n",
              "      <td>2017</td>\n",
              "      <td>4</td>\n",
              "      <td>14</td>\n",
              "      <td>4</td>\n",
              "      <td>2</td>\n",
              "      <td>7</td>\n",
              "      <td>False</td>\n",
              "      <td>False</td>\n",
              "      <td>False</td>\n",
              "      <td>False</td>\n",
              "    </tr>\n",
              "  </tbody>\n",
              "</table>\n",
              "</div>"
            ],
            "text/plain": [
              "  application_date  segment  ...  is_quarter_start is_quarter_end\n",
              "0       2017-04-01        1  ...              True          False\n",
              "1       2017-04-03        1  ...             False          False\n",
              "2       2017-04-04        1  ...             False          False\n",
              "3       2017-04-05        1  ...             False          False\n",
              "4       2017-04-07        1  ...             False          False\n",
              "\n",
              "[5 rows x 16 columns]"
            ]
          },
          "metadata": {
            "tags": []
          },
          "execution_count": 27
        }
      ]
    },
    {
      "cell_type": "code",
      "metadata": {
        "id": "_4Uz3kLXx9B_",
        "colab": {
          "base_uri": "https://localhost:8080/",
          "height": 435
        },
        "outputId": "4c917589-9836-408c-8e59-25f56669e542"
      },
      "source": [
        "train.set_index('application_date').resample('D')['case_count'].sum().plot(kind = 'line',figsize = (15,6),label = 'Totalcase_count_by_day')\n",
        "plt.title('Total_case_count_by_day')\n",
        "plt.xlabel('Day')\n",
        "plt.ylabel('case_counts_by_day')\n",
        "plt.legend(loc = 'best')\n",
        "# We can see some kind of trend here, the sum total of case counts increases for sometime and then stays almost same. \n",
        "# We can also see a spike that is apart from the trend around July-Oct of 2018."
      ],
      "execution_count": null,
      "outputs": [
        {
          "output_type": "execute_result",
          "data": {
            "text/plain": [
              "<matplotlib.legend.Legend at 0x7f104217c978>"
            ]
          },
          "metadata": {
            "tags": []
          },
          "execution_count": 28
        },
        {
          "output_type": "display_data",
          "data": {
            "image/png": "[encoded data removed]",
            "text/plain": [
              "<Figure size 1080x432 with 1 Axes>"
            ]
          },
          "metadata": {
            "tags": []
          }
        }
      ]
    },
    {
      "cell_type": "code",
      "metadata": {
        "id": "w3GLcS3cyvXc",
        "colab": {
          "base_uri": "https://localhost:8080/",
          "height": 409
        },
        "outputId": "9e2cd881-02b2-4f13-b7c8-e980138560a8"
      },
      "source": [
        "train.set_index('application_date')['case_count'].plot(kind = 'line',figsize =(15,6))\n",
        "plt.title('Case count by day')\n",
        "plt.xlabel('Day')\n",
        "plt.ylabel('Total case counts')\n",
        "plt.legend(loc = 'best')\n",
        "#we can also see the increasing and decreasing trends here"
      ],
      "execution_count": null,
      "outputs": [
        {
          "output_type": "execute_result",
          "data": {
            "text/plain": [
              "<matplotlib.legend.Legend at 0x7f1041072198>"
            ]
          },
          "metadata": {
            "tags": []
          },
          "execution_count": 29
        },
        {
          "output_type": "display_data",
          "data": {
            "image/png": "[encoded data removed]",
            "text/plain": [
              "<Figure size 1080x432 with 1 Axes>"
            ]
          },
          "metadata": {
            "tags": []
          }
        }
      ]
    },
    {
      "cell_type": "code",
      "metadata": {
        "id": "UPSGAqVdzptr",
        "colab": {
          "base_uri": "https://localhost:8080/",
          "height": 435
        },
        "outputId": "5521de6b-eb94-4208-817d-7f971b6bbc0f"
      },
      "source": [
        "train.set_index('application_date').resample('W')['case_count'].sum().plot(kind = 'line',figsize = (15,6),label = 'Totalcase_count_by_day')\n",
        "plt.title('Total_case_count_by_Week')\n",
        "plt.xlabel('Week')\n",
        "plt.ylabel('case_counts_by_Week')\n",
        "plt.legend(loc = 'best')\n",
        "# We can see increasing and decreasing trends here as well"
      ],
      "execution_count": null,
      "outputs": [
        {
          "output_type": "execute_result",
          "data": {
            "text/plain": [
              "<matplotlib.legend.Legend at 0x7f103e1c7048>"
            ]
          },
          "metadata": {
            "tags": []
          },
          "execution_count": 30
        },
        {
          "output_type": "display_data",
          "data": {
            "image/png": "[encoded data removed]",
            "text/plain": [
              "<Figure size 1080x432 with 1 Axes>"
            ]
          },
          "metadata": {
            "tags": []
          }
        }
      ]
    },
    {
      "cell_type": "code",
      "metadata": {
        "id": "l8fwjTaCyZ7z",
        "colab": {
          "base_uri": "https://localhost:8080/",
          "height": 435
        },
        "outputId": "fa4ee9cd-6d0e-47f5-f0de-ca9e8991d8c0"
      },
      "source": [
        "train.set_index('application_date').resample('M')['case_count'].sum().plot(kind = 'line',figsize = (15,6),label = 'Totalcase_count_by_day')\n",
        "plt.title('Total_case_count_by_Month')\n",
        "plt.xlabel('Month')\n",
        "plt.ylabel('case_counts_by_Month')\n",
        "plt.legend(loc = 'best')\n",
        "# We can see a gradual increase for sometime and then series of increasing and decreasing trends followed by a dip at the end"
      ],
      "execution_count": null,
      "outputs": [
        {
          "output_type": "execute_result",
          "data": {
            "text/plain": [
              "<matplotlib.legend.Legend at 0x7f1041115dd8>"
            ]
          },
          "metadata": {
            "tags": []
          },
          "execution_count": 31
        },
        {
          "output_type": "display_data",
          "data": {
            "image/png": "[encoded data removed]",
            "text/plain": [
              "<Figure size 1080x432 with 1 Axes>"
            ]
          },
          "metadata": {
            "tags": []
          }
        }
      ]
    },
    {
      "cell_type": "code",
      "metadata": {
        "id": "X2QN3Rg70JKJ",
        "colab": {
          "base_uri": "https://localhost:8080/",
          "height": 313
        },
        "outputId": "59f7d9c8-3e8c-4598-d27a-ece5cc839739"
      },
      "source": [
        "train.groupby('year')['case_count'].sum().sort_index().plot(kind = 'bar')\n",
        "# We can see a spike in the total case_counts from 2017-2018"
      ],
      "execution_count": null,
      "outputs": [
        {
          "output_type": "execute_result",
          "data": {
            "text/plain": [
              "<matplotlib.axes._subplots.AxesSubplot at 0x7f103dfa7fd0>"
            ]
          },
          "metadata": {
            "tags": []
          },
          "execution_count": 33
        },
        {
          "output_type": "display_data",
          "data": {
            "image/png": "[encoded data removed]",
            "text/plain": [
              "<Figure size 432x288 with 1 Axes>"
            ]
          },
          "metadata": {
            "tags": []
          }
        }
      ]
    },
    {
      "cell_type": "code",
      "metadata": {
        "id": "jtm7eUxhyLQz",
        "colab": {
          "base_uri": "https://localhost:8080/",
          "height": 300
        },
        "outputId": "c24d6a95-210e-4a37-9a9b-bf7a8b713238"
      },
      "source": [
        "train.groupby('month')['case_count'].sum().sort_values().plot(kind = 'bar')\n",
        "# case counts are maximum in the month of june follwed by july, march and may which are close to eachother. \n",
        "# There are minimum case counts in the month of august"
      ],
      "execution_count": null,
      "outputs": [
        {
          "output_type": "execute_result",
          "data": {
            "text/plain": [
              "<matplotlib.axes._subplots.AxesSubplot at 0x7f103e0a76d8>"
            ]
          },
          "metadata": {
            "tags": []
          },
          "execution_count": 34
        },
        {
          "output_type": "display_data",
          "data": {
            "image/png": "[encoded data removed]",
            "text/plain": [
              "<Figure size 432x288 with 1 Axes>"
            ]
          },
          "metadata": {
            "tags": []
          }
        }
      ]
    },
    {
      "cell_type": "code",
      "metadata": {
        "id": "t4IvKaKN1deY",
        "colab": {
          "base_uri": "https://localhost:8080/",
          "height": 295
        },
        "outputId": "c3524276-f528-4251-a13a-d8bf870305a8"
      },
      "source": [
        "train.groupby('day_of_week')['case_count'].sum().sort_index().plot(kind='bar')"
      ],
      "execution_count": null,
      "outputs": [
        {
          "output_type": "execute_result",
          "data": {
            "text/plain": [
              "<matplotlib.axes._subplots.AxesSubplot at 0x7f103df60e10>"
            ]
          },
          "metadata": {
            "tags": []
          },
          "execution_count": 35
        },
        {
          "output_type": "display_data",
          "data": {
            "image/png": "[encoded data removed]",
            "text/plain": [
              "<Figure size 432x288 with 1 Axes>"
            ]
          },
          "metadata": {
            "tags": []
          }
        }
      ]
    },
    {
      "cell_type": "code",
      "metadata": {
        "id": "QzDCbjkm01R1",
        "colab": {
          "base_uri": "https://localhost:8080/",
          "height": 288
        },
        "outputId": "73e19842-6429-444c-b82b-7fd6f1ff783d"
      },
      "source": [
        "train.groupby('day_of_week')['case_count'].agg(['count','min','max','mean','median','std','sum']).sort_values(by='count')\n",
        "#friday has the highest occurance and sunday has the least\n",
        "#wednesday has the highest no.of counts"
      ],
      "execution_count": null,
      "outputs": [
        {
          "output_type": "execute_result",
          "data": {
            "text/html": [
              "<div>\n",
              "<style scoped>\n",
              "    .dataframe tbody tr th:only-of-type {\n",
              "        vertical-align: middle;\n",
              "    }\n",
              "\n",
              "    .dataframe tbody tr th {\n",
              "        vertical-align: top;\n",
              "    }\n",
              "\n",
              "    .dataframe thead th {\n",
              "        text-align: right;\n",
              "    }\n",
              "</style>\n",
              "<table border=\"1\" class=\"dataframe\">\n",
              "  <thead>\n",
              "    <tr style=\"text-align: right;\">\n",
              "      <th></th>\n",
              "      <th>count</th>\n",
              "      <th>min</th>\n",
              "      <th>max</th>\n",
              "      <th>mean</th>\n",
              "      <th>median</th>\n",
              "      <th>std</th>\n",
              "      <th>sum</th>\n",
              "    </tr>\n",
              "    <tr>\n",
              "      <th>day_of_week</th>\n",
              "      <th></th>\n",
              "      <th></th>\n",
              "      <th></th>\n",
              "      <th></th>\n",
              "      <th></th>\n",
              "      <th></th>\n",
              "      <th></th>\n",
              "    </tr>\n",
              "  </thead>\n",
              "  <tbody>\n",
              "    <tr>\n",
              "      <th>6</th>\n",
              "      <td>11149</td>\n",
              "      <td>0.0</td>\n",
              "      <td>10250.0</td>\n",
              "      <td>128.858821</td>\n",
              "      <td>6.0</td>\n",
              "      <td>524.116220</td>\n",
              "      <td>1436647.0</td>\n",
              "    </tr>\n",
              "    <tr>\n",
              "      <th>5</th>\n",
              "      <td>11398</td>\n",
              "      <td>0.0</td>\n",
              "      <td>13787.0</td>\n",
              "      <td>187.348921</td>\n",
              "      <td>15.0</td>\n",
              "      <td>772.206734</td>\n",
              "      <td>2135403.0</td>\n",
              "    </tr>\n",
              "    <tr>\n",
              "      <th>2</th>\n",
              "      <td>11548</td>\n",
              "      <td>0.0</td>\n",
              "      <td>11160.0</td>\n",
              "      <td>200.408382</td>\n",
              "      <td>23.0</td>\n",
              "      <td>785.416843</td>\n",
              "      <td>2314316.0</td>\n",
              "    </tr>\n",
              "    <tr>\n",
              "      <th>4</th>\n",
              "      <td>11548</td>\n",
              "      <td>0.0</td>\n",
              "      <td>13118.0</td>\n",
              "      <td>195.889938</td>\n",
              "      <td>20.0</td>\n",
              "      <td>790.769909</td>\n",
              "      <td>2262137.0</td>\n",
              "    </tr>\n",
              "    <tr>\n",
              "      <th>0</th>\n",
              "      <td>11564</td>\n",
              "      <td>0.0</td>\n",
              "      <td>10805.0</td>\n",
              "      <td>187.947250</td>\n",
              "      <td>23.0</td>\n",
              "      <td>726.091558</td>\n",
              "      <td>2173422.0</td>\n",
              "    </tr>\n",
              "    <tr>\n",
              "      <th>1</th>\n",
              "      <td>11564</td>\n",
              "      <td>0.0</td>\n",
              "      <td>11506.0</td>\n",
              "      <td>197.249654</td>\n",
              "      <td>19.0</td>\n",
              "      <td>801.207821</td>\n",
              "      <td>2280995.0</td>\n",
              "    </tr>\n",
              "    <tr>\n",
              "      <th>3</th>\n",
              "      <td>11631</td>\n",
              "      <td>0.0</td>\n",
              "      <td>12908.0</td>\n",
              "      <td>198.623592</td>\n",
              "      <td>20.0</td>\n",
              "      <td>798.405221</td>\n",
              "      <td>2310191.0</td>\n",
              "    </tr>\n",
              "  </tbody>\n",
              "</table>\n",
              "</div>"
            ],
            "text/plain": [
              "             count  min      max        mean  median         std        sum\n",
              "day_of_week                                                                \n",
              "6            11149  0.0  10250.0  128.858821     6.0  524.116220  1436647.0\n",
              "5            11398  0.0  13787.0  187.348921    15.0  772.206734  2135403.0\n",
              "2            11548  0.0  11160.0  200.408382    23.0  785.416843  2314316.0\n",
              "4            11548  0.0  13118.0  195.889938    20.0  790.769909  2262137.0\n",
              "0            11564  0.0  10805.0  187.947250    23.0  726.091558  2173422.0\n",
              "1            11564  0.0  11506.0  197.249654    19.0  801.207821  2280995.0\n",
              "3            11631  0.0  12908.0  198.623592    20.0  798.405221  2310191.0"
            ]
          },
          "metadata": {
            "tags": []
          },
          "execution_count": 36
        }
      ]
    },
    {
      "cell_type": "code",
      "metadata": {
        "id": "qenykQEh0zbb",
        "colab": {
          "base_uri": "https://localhost:8080/",
          "height": 378
        },
        "outputId": "63d4c466-8df5-44f5-d0bd-833620411a63"
      },
      "source": [
        "train.groupby(['year','quarter'])['case_count'].agg(['count','min','max','mean','median','std','sum'])\n",
        "#count is maximum in the 4th quarter of 2019 and in the 3rd and 4th quarter of 2018\n",
        "#sum is maximum during the 3rd and 4th quarter of 2018"
      ],
      "execution_count": null,
      "outputs": [
        {
          "output_type": "execute_result",
          "data": {
            "text/html": [
              "<div>\n",
              "<style scoped>\n",
              "    .dataframe tbody tr th:only-of-type {\n",
              "        vertical-align: middle;\n",
              "    }\n",
              "\n",
              "    .dataframe tbody tr th {\n",
              "        vertical-align: top;\n",
              "    }\n",
              "\n",
              "    .dataframe thead th {\n",
              "        text-align: right;\n",
              "    }\n",
              "</style>\n",
              "<table border=\"1\" class=\"dataframe\">\n",
              "  <thead>\n",
              "    <tr style=\"text-align: right;\">\n",
              "      <th></th>\n",
              "      <th></th>\n",
              "      <th>count</th>\n",
              "      <th>min</th>\n",
              "      <th>max</th>\n",
              "      <th>mean</th>\n",
              "      <th>median</th>\n",
              "      <th>std</th>\n",
              "      <th>sum</th>\n",
              "    </tr>\n",
              "    <tr>\n",
              "      <th>year</th>\n",
              "      <th>quarter</th>\n",
              "      <th></th>\n",
              "      <th></th>\n",
              "      <th></th>\n",
              "      <th></th>\n",
              "      <th></th>\n",
              "      <th></th>\n",
              "      <th></th>\n",
              "    </tr>\n",
              "  </thead>\n",
              "  <tbody>\n",
              "    <tr>\n",
              "      <th rowspan=\"3\" valign=\"top\">2017</th>\n",
              "      <th>2</th>\n",
              "      <td>8428</td>\n",
              "      <td>0.0</td>\n",
              "      <td>5274.0</td>\n",
              "      <td>83.795918</td>\n",
              "      <td>4.0</td>\n",
              "      <td>355.182813</td>\n",
              "      <td>706232.0</td>\n",
              "    </tr>\n",
              "    <tr>\n",
              "      <th>3</th>\n",
              "      <td>8361</td>\n",
              "      <td>0.0</td>\n",
              "      <td>8884.0</td>\n",
              "      <td>143.277240</td>\n",
              "      <td>8.0</td>\n",
              "      <td>586.083382</td>\n",
              "      <td>1197941.0</td>\n",
              "    </tr>\n",
              "    <tr>\n",
              "      <th>4</th>\n",
              "      <td>9108</td>\n",
              "      <td>0.0</td>\n",
              "      <td>9963.0</td>\n",
              "      <td>159.180281</td>\n",
              "      <td>8.0</td>\n",
              "      <td>672.335216</td>\n",
              "      <td>1449814.0</td>\n",
              "    </tr>\n",
              "    <tr>\n",
              "      <th rowspan=\"4\" valign=\"top\">2018</th>\n",
              "      <th>1</th>\n",
              "      <td>8578</td>\n",
              "      <td>0.0</td>\n",
              "      <td>11288.0</td>\n",
              "      <td>201.493122</td>\n",
              "      <td>15.0</td>\n",
              "      <td>776.551733</td>\n",
              "      <td>1728408.0</td>\n",
              "    </tr>\n",
              "    <tr>\n",
              "      <th>2</th>\n",
              "      <td>9009</td>\n",
              "      <td>0.0</td>\n",
              "      <td>11241.0</td>\n",
              "      <td>201.202020</td>\n",
              "      <td>17.0</td>\n",
              "      <td>782.798312</td>\n",
              "      <td>1812629.0</td>\n",
              "    </tr>\n",
              "    <tr>\n",
              "      <th>3</th>\n",
              "      <td>9108</td>\n",
              "      <td>0.0</td>\n",
              "      <td>12908.0</td>\n",
              "      <td>222.579381</td>\n",
              "      <td>22.0</td>\n",
              "      <td>832.692992</td>\n",
              "      <td>2027253.0</td>\n",
              "    </tr>\n",
              "    <tr>\n",
              "      <th>4</th>\n",
              "      <td>9108</td>\n",
              "      <td>0.0</td>\n",
              "      <td>11536.0</td>\n",
              "      <td>210.783487</td>\n",
              "      <td>28.0</td>\n",
              "      <td>791.775034</td>\n",
              "      <td>1919816.0</td>\n",
              "    </tr>\n",
              "    <tr>\n",
              "      <th rowspan=\"3\" valign=\"top\">2019</th>\n",
              "      <th>1</th>\n",
              "      <td>8910</td>\n",
              "      <td>0.0</td>\n",
              "      <td>13787.0</td>\n",
              "      <td>218.289675</td>\n",
              "      <td>25.0</td>\n",
              "      <td>899.676700</td>\n",
              "      <td>1944961.0</td>\n",
              "    </tr>\n",
              "    <tr>\n",
              "      <th>2</th>\n",
              "      <td>9009</td>\n",
              "      <td>0.0</td>\n",
              "      <td>10629.0</td>\n",
              "      <td>192.518704</td>\n",
              "      <td>26.0</td>\n",
              "      <td>785.605175</td>\n",
              "      <td>1734401.0</td>\n",
              "    </tr>\n",
              "    <tr>\n",
              "      <th>3</th>\n",
              "      <td>783</td>\n",
              "      <td>0.0</td>\n",
              "      <td>10099.0</td>\n",
              "      <td>500.199234</td>\n",
              "      <td>47.0</td>\n",
              "      <td>1348.030656</td>\n",
              "      <td>391656.0</td>\n",
              "    </tr>\n",
              "  </tbody>\n",
              "</table>\n",
              "</div>"
            ],
            "text/plain": [
              "              count  min      max        mean  median          std        sum\n",
              "year quarter                                                                 \n",
              "2017 2         8428  0.0   5274.0   83.795918     4.0   355.182813   706232.0\n",
              "     3         8361  0.0   8884.0  143.277240     8.0   586.083382  1197941.0\n",
              "     4         9108  0.0   9963.0  159.180281     8.0   672.335216  1449814.0\n",
              "2018 1         8578  0.0  11288.0  201.493122    15.0   776.551733  1728408.0\n",
              "     2         9009  0.0  11241.0  201.202020    17.0   782.798312  1812629.0\n",
              "     3         9108  0.0  12908.0  222.579381    22.0   832.692992  2027253.0\n",
              "     4         9108  0.0  11536.0  210.783487    28.0   791.775034  1919816.0\n",
              "2019 1         8910  0.0  13787.0  218.289675    25.0   899.676700  1944961.0\n",
              "     2         9009  0.0  10629.0  192.518704    26.0   785.605175  1734401.0\n",
              "     3          783  0.0  10099.0  500.199234    47.0  1348.030656   391656.0"
            ]
          },
          "metadata": {
            "tags": []
          },
          "execution_count": 37
        }
      ]
    },
    {
      "cell_type": "code",
      "metadata": {
        "id": "6oh8McChIACV"
      },
      "source": [
        ""
      ],
      "execution_count": null,
      "outputs": []
    },
    {
      "cell_type": "markdown",
      "metadata": {
        "id": "woc0aiDxIDV0"
      },
      "source": [
        "**Defining the Evaluation Metric**"
      ]
    },
    {
      "cell_type": "code",
      "metadata": {
        "id": "q-_D4NSEICF6"
      },
      "source": [
        "def mean_absolute_percentage_error(y_true,y_pred):\n",
        "  y_true,y_pred = np.array(y_true),np.array(y_pred)\n",
        "  return np.mean(np.abs((y_pred-y_true)/y_pred))*100"
      ],
      "execution_count": null,
      "outputs": []
    },
    {
      "cell_type": "markdown",
      "metadata": {
        "id": "VlcrcglAIugN"
      },
      "source": [
        "**Model Building**\n",
        "\n",
        "1.  Since we are supposed to forecast the sum of case counts at country level, it makes sense to create the data frame using current train and test dataframes\n",
        "\n",
        "2.   We can also create additional features like we did earlier using dataframes\n",
        "\n",
        "\n"
      ]
    },
    {
      "cell_type": "code",
      "metadata": {
        "id": "UWrPKM9rInbb",
        "colab": {
          "base_uri": "https://localhost:8080/",
          "height": 198
        },
        "outputId": "28a171de-4b9b-4724-dc36-6506b5d48d09"
      },
      "source": [
        "df_train.head()"
      ],
      "execution_count": null,
      "outputs": [
        {
          "output_type": "execute_result",
          "data": {
            "text/html": [
              "<div>\n",
              "<style scoped>\n",
              "    .dataframe tbody tr th:only-of-type {\n",
              "        vertical-align: middle;\n",
              "    }\n",
              "\n",
              "    .dataframe tbody tr th {\n",
              "        vertical-align: top;\n",
              "    }\n",
              "\n",
              "    .dataframe thead th {\n",
              "        text-align: right;\n",
              "    }\n",
              "</style>\n",
              "<table border=\"1\" class=\"dataframe\">\n",
              "  <thead>\n",
              "    <tr style=\"text-align: right;\">\n",
              "      <th></th>\n",
              "      <th>application_date</th>\n",
              "      <th>segment</th>\n",
              "      <th>branch_id</th>\n",
              "      <th>state</th>\n",
              "      <th>zone</th>\n",
              "      <th>case_count</th>\n",
              "    </tr>\n",
              "  </thead>\n",
              "  <tbody>\n",
              "    <tr>\n",
              "      <th>0</th>\n",
              "      <td>2017-04-01</td>\n",
              "      <td>1</td>\n",
              "      <td>1.0</td>\n",
              "      <td>WEST BENGAL</td>\n",
              "      <td>EAST</td>\n",
              "      <td>40.0</td>\n",
              "    </tr>\n",
              "    <tr>\n",
              "      <th>1</th>\n",
              "      <td>2017-04-03</td>\n",
              "      <td>1</td>\n",
              "      <td>1.0</td>\n",
              "      <td>WEST BENGAL</td>\n",
              "      <td>EAST</td>\n",
              "      <td>5.0</td>\n",
              "    </tr>\n",
              "    <tr>\n",
              "      <th>2</th>\n",
              "      <td>2017-04-04</td>\n",
              "      <td>1</td>\n",
              "      <td>1.0</td>\n",
              "      <td>WEST BENGAL</td>\n",
              "      <td>EAST</td>\n",
              "      <td>4.0</td>\n",
              "    </tr>\n",
              "    <tr>\n",
              "      <th>3</th>\n",
              "      <td>2017-04-05</td>\n",
              "      <td>1</td>\n",
              "      <td>1.0</td>\n",
              "      <td>WEST BENGAL</td>\n",
              "      <td>EAST</td>\n",
              "      <td>113.0</td>\n",
              "    </tr>\n",
              "    <tr>\n",
              "      <th>4</th>\n",
              "      <td>2017-04-07</td>\n",
              "      <td>1</td>\n",
              "      <td>1.0</td>\n",
              "      <td>WEST BENGAL</td>\n",
              "      <td>EAST</td>\n",
              "      <td>76.0</td>\n",
              "    </tr>\n",
              "  </tbody>\n",
              "</table>\n",
              "</div>"
            ],
            "text/plain": [
              "  application_date  segment  branch_id        state  zone  case_count\n",
              "0       2017-04-01        1        1.0  WEST BENGAL  EAST        40.0\n",
              "1       2017-04-03        1        1.0  WEST BENGAL  EAST         5.0\n",
              "2       2017-04-04        1        1.0  WEST BENGAL  EAST         4.0\n",
              "3       2017-04-05        1        1.0  WEST BENGAL  EAST       113.0\n",
              "4       2017-04-07        1        1.0  WEST BENGAL  EAST        76.0"
            ]
          },
          "metadata": {
            "tags": []
          },
          "execution_count": 39
        }
      ]
    },
    {
      "cell_type": "code",
      "metadata": {
        "id": "WeYFhSlZKsSS"
      },
      "source": [
        "df_train.drop(['branch_id','state','zone'],axis=1,inplace=True)"
      ],
      "execution_count": null,
      "outputs": []
    },
    {
      "cell_type": "code",
      "metadata": {
        "id": "hvQ4rHiILFPQ",
        "colab": {
          "base_uri": "https://localhost:8080/",
          "height": 198
        },
        "outputId": "8e7c9479-714e-4af5-a865-405af435ef1a"
      },
      "source": [
        "df_train = df_train.groupby(['application_date','segment'],as_index=False)['case_count'].sum()\n",
        "df_train.head()"
      ],
      "execution_count": null,
      "outputs": [
        {
          "output_type": "execute_result",
          "data": {
            "text/html": [
              "<div>\n",
              "<style scoped>\n",
              "    .dataframe tbody tr th:only-of-type {\n",
              "        vertical-align: middle;\n",
              "    }\n",
              "\n",
              "    .dataframe tbody tr th {\n",
              "        vertical-align: top;\n",
              "    }\n",
              "\n",
              "    .dataframe thead th {\n",
              "        text-align: right;\n",
              "    }\n",
              "</style>\n",
              "<table border=\"1\" class=\"dataframe\">\n",
              "  <thead>\n",
              "    <tr style=\"text-align: right;\">\n",
              "      <th></th>\n",
              "      <th>application_date</th>\n",
              "      <th>segment</th>\n",
              "      <th>case_count</th>\n",
              "    </tr>\n",
              "  </thead>\n",
              "  <tbody>\n",
              "    <tr>\n",
              "      <th>0</th>\n",
              "      <td>2017-04-01</td>\n",
              "      <td>1</td>\n",
              "      <td>299.0</td>\n",
              "    </tr>\n",
              "    <tr>\n",
              "      <th>1</th>\n",
              "      <td>2017-04-01</td>\n",
              "      <td>2</td>\n",
              "      <td>897.0</td>\n",
              "    </tr>\n",
              "    <tr>\n",
              "      <th>2</th>\n",
              "      <td>2017-04-02</td>\n",
              "      <td>2</td>\n",
              "      <td>605.0</td>\n",
              "    </tr>\n",
              "    <tr>\n",
              "      <th>3</th>\n",
              "      <td>2017-04-03</td>\n",
              "      <td>1</td>\n",
              "      <td>42.0</td>\n",
              "    </tr>\n",
              "    <tr>\n",
              "      <th>4</th>\n",
              "      <td>2017-04-03</td>\n",
              "      <td>2</td>\n",
              "      <td>2016.0</td>\n",
              "    </tr>\n",
              "  </tbody>\n",
              "</table>\n",
              "</div>"
            ],
            "text/plain": [
              "  application_date  segment  case_count\n",
              "0       2017-04-01        1       299.0\n",
              "1       2017-04-01        2       897.0\n",
              "2       2017-04-02        2       605.0\n",
              "3       2017-04-03        1        42.0\n",
              "4       2017-04-03        2      2016.0"
            ]
          },
          "metadata": {
            "tags": []
          },
          "execution_count": 41
        }
      ]
    },
    {
      "cell_type": "code",
      "metadata": {
        "id": "XsIdoRRqMJp1"
      },
      "source": [
        "holidays = ['2017-04-05','2017-04-09','2017-04-14','2017-05-01',\n",
        "       '2017-05-10', '2017-06-25', '2017-06-26', '2017-08-07',\n",
        "       '2017-08-14', '2017-08-15', '2017-08-25', '2017-09-02',\n",
        "       '2017-09-04', '2017-09-30', '2017-10-01', '2017-10-02',\n",
        "       '2017-10-19', '2017-12-01', '2017-12-25', '2018-01-01', \n",
        "       '2018-01-14', '2018-01-22', '2018-01-26',\n",
        "       '2018-01-31', '2018-02-10', '2018-02-14', '2018-02-19',\n",
        "       '2018-03-01', '2018-03-02', '2018-03-18', '2018-03-25',\n",
        "       '2018-03-29', '2018-03-30', '2018-04-01', '2018-04-14',\n",
        "       '2018-04-15', '2018-04-30', '2018-05-09', '2018-06-15',\n",
        "       '2018-06-16', '2018-07-14', '2018-08-15', '2018-08-17',\n",
        "       '2018-08-22', '2018-08-25', '2018-08-26', '2018-09-03',\n",
        "       '2018-09-13', '2018-09-21', '2018-10-02', '2018-10-16',\n",
        "       '2018-10-17', '2018-10-18', '2018-10-19', '2018-10-24',\n",
        "       '2018-10-27', '2018-11-06', '2018-11-07', '2018-11-08',\n",
        "       '2018-11-09', '2018-11-13', '2018-11-21', '2018-11-23',\n",
        "       '2018-11-24', '2018-12-24', '2018-12-25', '2019-01-01',\n",
        "       '2019-01-13', '2019-01-14', '2019-01-15', '2019-01-26',\n",
        "       '2019-02-10', '2019-02-19', '2019-03-01', '2019-03-04',\n",
        "       '2019-03-20', '2019-03-21', '2019-04-06', '2019-04-13',\n",
        "       '2019-04-14', '2019-04-15', '2019-04-17', '2019-04-19',\n",
        "       '2019-04-21', '2019-05-09', '2019-05-18', '2019-05-31',\n",
        "       '2019-06-05', '2019-07-04', '2019-08-12', '2019-08-15',\n",
        "       '2019-08-17', '2019-08-24', '2019-09-02', '2019-09-10',\n",
        "       '2019-09-11', '2019-10-02', '2019-10-05', '2019-10-06',\n",
        "       '2019-10-07', '2019-10-08', '2019-10-13', '2019-10-17',\n",
        "       '2019-10-27', '2019-10-28', '2019-10-29', '2019-11-02',\n",
        "       '2019-11-10', '2019-11-12', '2019-11-24', '2019-12-24',\n",
        "       '2019-12-25']\n",
        "df_train['Holiday'] = (df_train.application_date.dt.date.astype(\"str\").isin(holidays)).astype(int)\n",
        "df_test['Holiday'] = (df_test.application_date.dt.date.astype(\"str\").isin(holidays)).astype(int)"
      ],
      "execution_count": null,
      "outputs": []
    },
    {
      "cell_type": "code",
      "metadata": {
        "id": "NqnnwZvuN_yg",
        "colab": {
          "base_uri": "https://localhost:8080/",
          "height": 348
        },
        "outputId": "ce5703a0-6331-4c42-a9e0-2f6119d09cc4"
      },
      "source": [
        "df_train.head(10)"
      ],
      "execution_count": null,
      "outputs": [
        {
          "output_type": "execute_result",
          "data": {
            "text/html": [
              "<div>\n",
              "<style scoped>\n",
              "    .dataframe tbody tr th:only-of-type {\n",
              "        vertical-align: middle;\n",
              "    }\n",
              "\n",
              "    .dataframe tbody tr th {\n",
              "        vertical-align: top;\n",
              "    }\n",
              "\n",
              "    .dataframe thead th {\n",
              "        text-align: right;\n",
              "    }\n",
              "</style>\n",
              "<table border=\"1\" class=\"dataframe\">\n",
              "  <thead>\n",
              "    <tr style=\"text-align: right;\">\n",
              "      <th></th>\n",
              "      <th>application_date</th>\n",
              "      <th>segment</th>\n",
              "      <th>case_count</th>\n",
              "      <th>Holiday</th>\n",
              "    </tr>\n",
              "  </thead>\n",
              "  <tbody>\n",
              "    <tr>\n",
              "      <th>0</th>\n",
              "      <td>2017-04-01</td>\n",
              "      <td>1</td>\n",
              "      <td>299.0</td>\n",
              "      <td>0</td>\n",
              "    </tr>\n",
              "    <tr>\n",
              "      <th>1</th>\n",
              "      <td>2017-04-01</td>\n",
              "      <td>2</td>\n",
              "      <td>897.0</td>\n",
              "      <td>0</td>\n",
              "    </tr>\n",
              "    <tr>\n",
              "      <th>2</th>\n",
              "      <td>2017-04-02</td>\n",
              "      <td>2</td>\n",
              "      <td>605.0</td>\n",
              "      <td>0</td>\n",
              "    </tr>\n",
              "    <tr>\n",
              "      <th>3</th>\n",
              "      <td>2017-04-03</td>\n",
              "      <td>1</td>\n",
              "      <td>42.0</td>\n",
              "      <td>0</td>\n",
              "    </tr>\n",
              "    <tr>\n",
              "      <th>4</th>\n",
              "      <td>2017-04-03</td>\n",
              "      <td>2</td>\n",
              "      <td>2016.0</td>\n",
              "      <td>0</td>\n",
              "    </tr>\n",
              "    <tr>\n",
              "      <th>5</th>\n",
              "      <td>2017-04-04</td>\n",
              "      <td>1</td>\n",
              "      <td>23.0</td>\n",
              "      <td>0</td>\n",
              "    </tr>\n",
              "    <tr>\n",
              "      <th>6</th>\n",
              "      <td>2017-04-04</td>\n",
              "      <td>2</td>\n",
              "      <td>2245.0</td>\n",
              "      <td>0</td>\n",
              "    </tr>\n",
              "    <tr>\n",
              "      <th>7</th>\n",
              "      <td>2017-04-05</td>\n",
              "      <td>1</td>\n",
              "      <td>1530.0</td>\n",
              "      <td>1</td>\n",
              "    </tr>\n",
              "    <tr>\n",
              "      <th>8</th>\n",
              "      <td>2017-04-05</td>\n",
              "      <td>2</td>\n",
              "      <td>2415.0</td>\n",
              "      <td>1</td>\n",
              "    </tr>\n",
              "    <tr>\n",
              "      <th>9</th>\n",
              "      <td>2017-04-06</td>\n",
              "      <td>2</td>\n",
              "      <td>2379.0</td>\n",
              "      <td>0</td>\n",
              "    </tr>\n",
              "  </tbody>\n",
              "</table>\n",
              "</div>"
            ],
            "text/plain": [
              "  application_date  segment  case_count  Holiday\n",
              "0       2017-04-01        1       299.0        0\n",
              "1       2017-04-01        2       897.0        0\n",
              "2       2017-04-02        2       605.0        0\n",
              "3       2017-04-03        1        42.0        0\n",
              "4       2017-04-03        2      2016.0        0\n",
              "5       2017-04-04        1        23.0        0\n",
              "6       2017-04-04        2      2245.0        0\n",
              "7       2017-04-05        1      1530.0        1\n",
              "8       2017-04-05        2      2415.0        1\n",
              "9       2017-04-06        2      2379.0        0"
            ]
          },
          "metadata": {
            "tags": []
          },
          "execution_count": 43
        }
      ]
    },
    {
      "cell_type": "code",
      "metadata": {
        "id": "V6S_EOCHOC67",
        "colab": {
          "base_uri": "https://localhost:8080/",
          "height": 348
        },
        "outputId": "8e361948-e26e-4f04-b34e-e745c7638bfe"
      },
      "source": [
        "df_test.head(10)"
      ],
      "execution_count": null,
      "outputs": [
        {
          "output_type": "execute_result",
          "data": {
            "text/html": [
              "<div>\n",
              "<style scoped>\n",
              "    .dataframe tbody tr th:only-of-type {\n",
              "        vertical-align: middle;\n",
              "    }\n",
              "\n",
              "    .dataframe tbody tr th {\n",
              "        vertical-align: top;\n",
              "    }\n",
              "\n",
              "    .dataframe thead th {\n",
              "        text-align: right;\n",
              "    }\n",
              "</style>\n",
              "<table border=\"1\" class=\"dataframe\">\n",
              "  <thead>\n",
              "    <tr style=\"text-align: right;\">\n",
              "      <th></th>\n",
              "      <th>id</th>\n",
              "      <th>application_date</th>\n",
              "      <th>segment</th>\n",
              "      <th>Holiday</th>\n",
              "    </tr>\n",
              "  </thead>\n",
              "  <tbody>\n",
              "    <tr>\n",
              "      <th>0</th>\n",
              "      <td>1</td>\n",
              "      <td>2019-07-06</td>\n",
              "      <td>1</td>\n",
              "      <td>0</td>\n",
              "    </tr>\n",
              "    <tr>\n",
              "      <th>1</th>\n",
              "      <td>2</td>\n",
              "      <td>2019-07-07</td>\n",
              "      <td>1</td>\n",
              "      <td>0</td>\n",
              "    </tr>\n",
              "    <tr>\n",
              "      <th>2</th>\n",
              "      <td>3</td>\n",
              "      <td>2019-07-08</td>\n",
              "      <td>1</td>\n",
              "      <td>0</td>\n",
              "    </tr>\n",
              "    <tr>\n",
              "      <th>3</th>\n",
              "      <td>4</td>\n",
              "      <td>2019-07-09</td>\n",
              "      <td>1</td>\n",
              "      <td>0</td>\n",
              "    </tr>\n",
              "    <tr>\n",
              "      <th>4</th>\n",
              "      <td>5</td>\n",
              "      <td>2019-07-10</td>\n",
              "      <td>1</td>\n",
              "      <td>0</td>\n",
              "    </tr>\n",
              "    <tr>\n",
              "      <th>5</th>\n",
              "      <td>6</td>\n",
              "      <td>2019-07-11</td>\n",
              "      <td>1</td>\n",
              "      <td>0</td>\n",
              "    </tr>\n",
              "    <tr>\n",
              "      <th>6</th>\n",
              "      <td>7</td>\n",
              "      <td>2019-07-12</td>\n",
              "      <td>1</td>\n",
              "      <td>0</td>\n",
              "    </tr>\n",
              "    <tr>\n",
              "      <th>7</th>\n",
              "      <td>8</td>\n",
              "      <td>2019-07-13</td>\n",
              "      <td>1</td>\n",
              "      <td>0</td>\n",
              "    </tr>\n",
              "    <tr>\n",
              "      <th>8</th>\n",
              "      <td>9</td>\n",
              "      <td>2019-07-14</td>\n",
              "      <td>1</td>\n",
              "      <td>0</td>\n",
              "    </tr>\n",
              "    <tr>\n",
              "      <th>9</th>\n",
              "      <td>10</td>\n",
              "      <td>2019-07-15</td>\n",
              "      <td>1</td>\n",
              "      <td>0</td>\n",
              "    </tr>\n",
              "  </tbody>\n",
              "</table>\n",
              "</div>"
            ],
            "text/plain": [
              "   id application_date  segment  Holiday\n",
              "0   1       2019-07-06        1        0\n",
              "1   2       2019-07-07        1        0\n",
              "2   3       2019-07-08        1        0\n",
              "3   4       2019-07-09        1        0\n",
              "4   5       2019-07-10        1        0\n",
              "5   6       2019-07-11        1        0\n",
              "6   7       2019-07-12        1        0\n",
              "7   8       2019-07-13        1        0\n",
              "8   9       2019-07-14        1        0\n",
              "9  10       2019-07-15        1        0"
            ]
          },
          "metadata": {
            "tags": []
          },
          "execution_count": 44
        }
      ]
    },
    {
      "cell_type": "markdown",
      "metadata": {
        "id": "l6VnHCBsOMD1"
      },
      "source": [
        "**Model Building fro segment1**"
      ]
    },
    {
      "cell_type": "code",
      "metadata": {
        "id": "JwXocC7IOHuZ",
        "colab": {
          "base_uri": "https://localhost:8080/",
          "height": 35
        },
        "outputId": "66f9fac7-a321-4130-d669-7682b1bf6316"
      },
      "source": [
        "df = df_train[df_train['segment']==1]\n",
        "df.shape"
      ],
      "execution_count": null,
      "outputs": [
        {
          "output_type": "execute_result",
          "data": {
            "text/plain": [
              "(806, 4)"
            ]
          },
          "metadata": {
            "tags": []
          },
          "execution_count": 45
        }
      ]
    },
    {
      "cell_type": "code",
      "metadata": {
        "id": "3Si5JMXIjGfC"
      },
      "source": [
        "#defining a function to create a weekend indicator\n",
        "def weekend_indicator(x):\n",
        "  if (x>4 and x<=6):\n",
        "    return True\n",
        "  else:\n",
        "    return False"
      ],
      "execution_count": null,
      "outputs": []
    },
    {
      "cell_type": "code",
      "metadata": {
        "id": "hZG8T3yLjjux",
        "colab": {
          "base_uri": "https://localhost:8080/",
          "height": 1000
        },
        "outputId": "0a21ed6f-10b4-4a44-ef87-aa13711e63e2"
      },
      "source": [
        "#creating additional datetime feature\n",
        "df['year'] = df.application_date.dt.year\n",
        "df['month'] = df.application_date.dt.month\n",
        "df['dayofweek']=df.application_date.dt.dayofweek\n",
        "df['day']=df.application_date.dt.day\n",
        "df['quarter']=df.application_date.dt.quarter\n",
        "df['is_month_start']=df.application_date.dt.is_month_start\n",
        "df['is_month_end']=df.application_date.dt.is_month_end\n",
        "df['is_quarter_start']=df.application_date.dt.is_quarter_start\n",
        "df['is_quarter_end']=df.application_date.dt.is_quarter_end\n",
        "df['weekend']=df['dayofweek'].apply(weekend_indicator)"
      ],
      "execution_count": null,
      "outputs": [
        {
          "output_type": "stream",
          "text": [
            "/usr/local/lib/python3.6/dist-packages/ipykernel_launcher.py:1: SettingWithCopyWarning: \n",
            "A value is trying to be set on a copy of a slice from a DataFrame.\n",
            "Try using .loc[row_indexer,col_indexer] = value instead\n",
            "\n",
            "See the caveats in the documentation: http://pandas.pydata.org/pandas-docs/stable/user_guide/indexing.html#returning-a-view-versus-a-copy\n",
            "  \"\"\"Entry point for launching an IPython kernel.\n",
            "/usr/local/lib/python3.6/dist-packages/ipykernel_launcher.py:2: SettingWithCopyWarning: \n",
            "A value is trying to be set on a copy of a slice from a DataFrame.\n",
            "Try using .loc[row_indexer,col_indexer] = value instead\n",
            "\n",
            "See the caveats in the documentation: http://pandas.pydata.org/pandas-docs/stable/user_guide/indexing.html#returning-a-view-versus-a-copy\n",
            "  \n",
            "/usr/local/lib/python3.6/dist-packages/ipykernel_launcher.py:3: SettingWithCopyWarning: \n",
            "A value is trying to be set on a copy of a slice from a DataFrame.\n",
            "Try using .loc[row_indexer,col_indexer] = value instead\n",
            "\n",
            "See the caveats in the documentation: http://pandas.pydata.org/pandas-docs/stable/user_guide/indexing.html#returning-a-view-versus-a-copy\n",
            "  This is separate from the ipykernel package so we can avoid doing imports until\n",
            "/usr/local/lib/python3.6/dist-packages/ipykernel_launcher.py:4: SettingWithCopyWarning: \n",
            "A value is trying to be set on a copy of a slice from a DataFrame.\n",
            "Try using .loc[row_indexer,col_indexer] = value instead\n",
            "\n",
            "See the caveats in the documentation: http://pandas.pydata.org/pandas-docs/stable/user_guide/indexing.html#returning-a-view-versus-a-copy\n",
            "  after removing the cwd from sys.path.\n",
            "/usr/local/lib/python3.6/dist-packages/ipykernel_launcher.py:5: SettingWithCopyWarning: \n",
            "A value is trying to be set on a copy of a slice from a DataFrame.\n",
            "Try using .loc[row_indexer,col_indexer] = value instead\n",
            "\n",
            "See the caveats in the documentation: http://pandas.pydata.org/pandas-docs/stable/user_guide/indexing.html#returning-a-view-versus-a-copy\n",
            "  \"\"\"\n",
            "/usr/local/lib/python3.6/dist-packages/ipykernel_launcher.py:6: SettingWithCopyWarning: \n",
            "A value is trying to be set on a copy of a slice from a DataFrame.\n",
            "Try using .loc[row_indexer,col_indexer] = value instead\n",
            "\n",
            "See the caveats in the documentation: http://pandas.pydata.org/pandas-docs/stable/user_guide/indexing.html#returning-a-view-versus-a-copy\n",
            "  \n",
            "/usr/local/lib/python3.6/dist-packages/ipykernel_launcher.py:7: SettingWithCopyWarning: \n",
            "A value is trying to be set on a copy of a slice from a DataFrame.\n",
            "Try using .loc[row_indexer,col_indexer] = value instead\n",
            "\n",
            "See the caveats in the documentation: http://pandas.pydata.org/pandas-docs/stable/user_guide/indexing.html#returning-a-view-versus-a-copy\n",
            "  import sys\n",
            "/usr/local/lib/python3.6/dist-packages/ipykernel_launcher.py:8: SettingWithCopyWarning: \n",
            "A value is trying to be set on a copy of a slice from a DataFrame.\n",
            "Try using .loc[row_indexer,col_indexer] = value instead\n",
            "\n",
            "See the caveats in the documentation: http://pandas.pydata.org/pandas-docs/stable/user_guide/indexing.html#returning-a-view-versus-a-copy\n",
            "  \n",
            "/usr/local/lib/python3.6/dist-packages/ipykernel_launcher.py:9: SettingWithCopyWarning: \n",
            "A value is trying to be set on a copy of a slice from a DataFrame.\n",
            "Try using .loc[row_indexer,col_indexer] = value instead\n",
            "\n",
            "See the caveats in the documentation: http://pandas.pydata.org/pandas-docs/stable/user_guide/indexing.html#returning-a-view-versus-a-copy\n",
            "  if __name__ == '__main__':\n",
            "/usr/local/lib/python3.6/dist-packages/ipykernel_launcher.py:10: SettingWithCopyWarning: \n",
            "A value is trying to be set on a copy of a slice from a DataFrame.\n",
            "Try using .loc[row_indexer,col_indexer] = value instead\n",
            "\n",
            "See the caveats in the documentation: http://pandas.pydata.org/pandas-docs/stable/user_guide/indexing.html#returning-a-view-versus-a-copy\n",
            "  # Remove the CWD from sys.path while we load stuff.\n"
          ],
          "name": "stderr"
        }
      ]
    },
    {
      "cell_type": "code",
      "metadata": {
        "id": "sraqc-8rkwJl",
        "colab": {
          "base_uri": "https://localhost:8080/",
          "height": 348
        },
        "outputId": "cf7c627b-0f80-4dfd-e5e9-bafcc1d52a25"
      },
      "source": [
        "df.head(10)"
      ],
      "execution_count": null,
      "outputs": [
        {
          "output_type": "execute_result",
          "data": {
            "text/html": [
              "<div>\n",
              "<style scoped>\n",
              "    .dataframe tbody tr th:only-of-type {\n",
              "        vertical-align: middle;\n",
              "    }\n",
              "\n",
              "    .dataframe tbody tr th {\n",
              "        vertical-align: top;\n",
              "    }\n",
              "\n",
              "    .dataframe thead th {\n",
              "        text-align: right;\n",
              "    }\n",
              "</style>\n",
              "<table border=\"1\" class=\"dataframe\">\n",
              "  <thead>\n",
              "    <tr style=\"text-align: right;\">\n",
              "      <th></th>\n",
              "      <th>application_date</th>\n",
              "      <th>segment</th>\n",
              "      <th>case_count</th>\n",
              "      <th>Holiday</th>\n",
              "      <th>year</th>\n",
              "      <th>month</th>\n",
              "      <th>dayofweek</th>\n",
              "      <th>day</th>\n",
              "      <th>quarter</th>\n",
              "      <th>is_month_start</th>\n",
              "      <th>is_month_end</th>\n",
              "      <th>is_quarter_start</th>\n",
              "      <th>is_quarter_end</th>\n",
              "      <th>weekend</th>\n",
              "    </tr>\n",
              "  </thead>\n",
              "  <tbody>\n",
              "    <tr>\n",
              "      <th>0</th>\n",
              "      <td>2017-04-01</td>\n",
              "      <td>1</td>\n",
              "      <td>299.0</td>\n",
              "      <td>0</td>\n",
              "      <td>2017</td>\n",
              "      <td>4</td>\n",
              "      <td>5</td>\n",
              "      <td>1</td>\n",
              "      <td>2</td>\n",
              "      <td>True</td>\n",
              "      <td>False</td>\n",
              "      <td>True</td>\n",
              "      <td>False</td>\n",
              "      <td>True</td>\n",
              "    </tr>\n",
              "    <tr>\n",
              "      <th>3</th>\n",
              "      <td>2017-04-03</td>\n",
              "      <td>1</td>\n",
              "      <td>42.0</td>\n",
              "      <td>0</td>\n",
              "      <td>2017</td>\n",
              "      <td>4</td>\n",
              "      <td>0</td>\n",
              "      <td>3</td>\n",
              "      <td>2</td>\n",
              "      <td>False</td>\n",
              "      <td>False</td>\n",
              "      <td>False</td>\n",
              "      <td>False</td>\n",
              "      <td>False</td>\n",
              "    </tr>\n",
              "    <tr>\n",
              "      <th>5</th>\n",
              "      <td>2017-04-04</td>\n",
              "      <td>1</td>\n",
              "      <td>23.0</td>\n",
              "      <td>0</td>\n",
              "      <td>2017</td>\n",
              "      <td>4</td>\n",
              "      <td>1</td>\n",
              "      <td>4</td>\n",
              "      <td>2</td>\n",
              "      <td>False</td>\n",
              "      <td>False</td>\n",
              "      <td>False</td>\n",
              "      <td>False</td>\n",
              "      <td>False</td>\n",
              "    </tr>\n",
              "    <tr>\n",
              "      <th>7</th>\n",
              "      <td>2017-04-05</td>\n",
              "      <td>1</td>\n",
              "      <td>1530.0</td>\n",
              "      <td>1</td>\n",
              "      <td>2017</td>\n",
              "      <td>4</td>\n",
              "      <td>2</td>\n",
              "      <td>5</td>\n",
              "      <td>2</td>\n",
              "      <td>False</td>\n",
              "      <td>False</td>\n",
              "      <td>False</td>\n",
              "      <td>False</td>\n",
              "      <td>False</td>\n",
              "    </tr>\n",
              "    <tr>\n",
              "      <th>10</th>\n",
              "      <td>2017-04-07</td>\n",
              "      <td>1</td>\n",
              "      <td>1341.0</td>\n",
              "      <td>0</td>\n",
              "      <td>2017</td>\n",
              "      <td>4</td>\n",
              "      <td>4</td>\n",
              "      <td>7</td>\n",
              "      <td>2</td>\n",
              "      <td>False</td>\n",
              "      <td>False</td>\n",
              "      <td>False</td>\n",
              "      <td>False</td>\n",
              "      <td>False</td>\n",
              "    </tr>\n",
              "    <tr>\n",
              "      <th>16</th>\n",
              "      <td>2017-04-12</td>\n",
              "      <td>1</td>\n",
              "      <td>1468.0</td>\n",
              "      <td>0</td>\n",
              "      <td>2017</td>\n",
              "      <td>4</td>\n",
              "      <td>2</td>\n",
              "      <td>12</td>\n",
              "      <td>2</td>\n",
              "      <td>False</td>\n",
              "      <td>False</td>\n",
              "      <td>False</td>\n",
              "      <td>False</td>\n",
              "      <td>False</td>\n",
              "    </tr>\n",
              "    <tr>\n",
              "      <th>18</th>\n",
              "      <td>2017-04-13</td>\n",
              "      <td>1</td>\n",
              "      <td>1340.0</td>\n",
              "      <td>0</td>\n",
              "      <td>2017</td>\n",
              "      <td>4</td>\n",
              "      <td>3</td>\n",
              "      <td>13</td>\n",
              "      <td>2</td>\n",
              "      <td>False</td>\n",
              "      <td>False</td>\n",
              "      <td>False</td>\n",
              "      <td>False</td>\n",
              "      <td>False</td>\n",
              "    </tr>\n",
              "    <tr>\n",
              "      <th>20</th>\n",
              "      <td>2017-04-14</td>\n",
              "      <td>1</td>\n",
              "      <td>1330.0</td>\n",
              "      <td>1</td>\n",
              "      <td>2017</td>\n",
              "      <td>4</td>\n",
              "      <td>4</td>\n",
              "      <td>14</td>\n",
              "      <td>2</td>\n",
              "      <td>False</td>\n",
              "      <td>False</td>\n",
              "      <td>False</td>\n",
              "      <td>False</td>\n",
              "      <td>False</td>\n",
              "    </tr>\n",
              "    <tr>\n",
              "      <th>22</th>\n",
              "      <td>2017-04-15</td>\n",
              "      <td>1</td>\n",
              "      <td>981.0</td>\n",
              "      <td>0</td>\n",
              "      <td>2017</td>\n",
              "      <td>4</td>\n",
              "      <td>5</td>\n",
              "      <td>15</td>\n",
              "      <td>2</td>\n",
              "      <td>False</td>\n",
              "      <td>False</td>\n",
              "      <td>False</td>\n",
              "      <td>False</td>\n",
              "      <td>True</td>\n",
              "    </tr>\n",
              "    <tr>\n",
              "      <th>24</th>\n",
              "      <td>2017-04-16</td>\n",
              "      <td>1</td>\n",
              "      <td>409.0</td>\n",
              "      <td>0</td>\n",
              "      <td>2017</td>\n",
              "      <td>4</td>\n",
              "      <td>6</td>\n",
              "      <td>16</td>\n",
              "      <td>2</td>\n",
              "      <td>False</td>\n",
              "      <td>False</td>\n",
              "      <td>False</td>\n",
              "      <td>False</td>\n",
              "      <td>True</td>\n",
              "    </tr>\n",
              "  </tbody>\n",
              "</table>\n",
              "</div>"
            ],
            "text/plain": [
              "   application_date  segment  ...  is_quarter_end  weekend\n",
              "0        2017-04-01        1  ...           False     True\n",
              "3        2017-04-03        1  ...           False    False\n",
              "5        2017-04-04        1  ...           False    False\n",
              "7        2017-04-05        1  ...           False    False\n",
              "10       2017-04-07        1  ...           False    False\n",
              "16       2017-04-12        1  ...           False    False\n",
              "18       2017-04-13        1  ...           False    False\n",
              "20       2017-04-14        1  ...           False    False\n",
              "22       2017-04-15        1  ...           False     True\n",
              "24       2017-04-16        1  ...           False     True\n",
              "\n",
              "[10 rows x 14 columns]"
            ]
          },
          "metadata": {
            "tags": []
          },
          "execution_count": 48
        }
      ]
    },
    {
      "cell_type": "code",
      "metadata": {
        "id": "-S38_UjMlQta"
      },
      "source": [
        "cols = ['year','month','dayofweek','day','quarter']\n",
        "for col in cols:\n",
        "  df_train[col]=df[col].astype('category')"
      ],
      "execution_count": null,
      "outputs": []
    },
    {
      "cell_type": "code",
      "metadata": {
        "id": "izPOhEazoYEI"
      },
      "source": [
        "y = df['case_count']\n",
        "X = df[[col for col in df.columns if col not in ['application_date','segment','case_count']]]"
      ],
      "execution_count": null,
      "outputs": []
    },
    {
      "cell_type": "code",
      "metadata": {
        "id": "Od_mDnHsp9gR"
      },
      "source": [
        "from sklearn.model_selection import train_test_split,KFold,cross_val_score,RandomizedSearchCV,TimeSeriesSplit,GridSearchCV\n",
        "from sklearn.linear_model import LinearRegression,Lasso,Ridge\n",
        "from sklearn.ensemble import RandomForestRegressor"
      ],
      "execution_count": null,
      "outputs": []
    },
    {
      "cell_type": "code",
      "metadata": {
        "id": "s2whwf_upMDO",
        "colab": {
          "base_uri": "https://localhost:8080/",
          "height": 90
        },
        "outputId": "87d52e81-b4ce-48f2-a545-406ddddd9e01"
      },
      "source": [
        "X_train,X_test,y_train,y_test = train_test_split(X,y,test_size = 0.25,random_state = 42)\n",
        "print(X_train.shape)\n",
        "print(X_test.shape)\n",
        "print(y_train.shape)\n",
        "print(y_test.shape)"
      ],
      "execution_count": null,
      "outputs": [
        {
          "output_type": "stream",
          "text": [
            "(604, 11)\n",
            "(202, 11)\n",
            "(604,)\n",
            "(202,)\n"
          ],
          "name": "stdout"
        }
      ]
    },
    {
      "cell_type": "code",
      "metadata": {
        "id": "Sojce8RPqnUZ",
        "colab": {
          "base_uri": "https://localhost:8080/",
          "height": 145
        },
        "outputId": "d7e3d762-5412-499c-fc27-a95f83b5e73c"
      },
      "source": [
        "model = RandomForestRegressor(n_jobs=1,random_state=42,n_estimators=1000,min_samples_leaf=2,max_depth=None)\n",
        "model.fit(X_train,y_train)"
      ],
      "execution_count": null,
      "outputs": [
        {
          "output_type": "execute_result",
          "data": {
            "text/plain": [
              "RandomForestRegressor(bootstrap=True, ccp_alpha=0.0, criterion='mse',\n",
              "                      max_depth=None, max_features='auto', max_leaf_nodes=None,\n",
              "                      max_samples=None, min_impurity_decrease=0.0,\n",
              "                      min_impurity_split=None, min_samples_leaf=2,\n",
              "                      min_samples_split=2, min_weight_fraction_leaf=0.0,\n",
              "                      n_estimators=1000, n_jobs=1, oob_score=False,\n",
              "                      random_state=42, verbose=0, warm_start=False)"
            ]
          },
          "metadata": {
            "tags": []
          },
          "execution_count": 53
        }
      ]
    },
    {
      "cell_type": "code",
      "metadata": {
        "id": "PGMuXnxwrKGa"
      },
      "source": [
        "y_pred = model.predict(X_test)"
      ],
      "execution_count": null,
      "outputs": []
    },
    {
      "cell_type": "code",
      "metadata": {
        "id": "AG5nhbIMrcYY",
        "colab": {
          "base_uri": "https://localhost:8080/",
          "height": 35
        },
        "outputId": "b67f3c71-aba5-491c-89fb-590fa4a29288"
      },
      "source": [
        "mape_segment1 = mean_absolute_percentage_error(y_test,y_pred)\n",
        "print(mape_segment1)"
      ],
      "execution_count": null,
      "outputs": [
        {
          "output_type": "stream",
          "text": [
            "28.764741601249792\n"
          ],
          "name": "stdout"
        }
      ]
    },
    {
      "cell_type": "code",
      "metadata": {
        "id": "pRWV7Sz4rqKG",
        "colab": {
          "base_uri": "https://localhost:8080/",
          "height": 235
        },
        "outputId": "f5c7c8ee-74c1-4638-8e03-54734726c599"
      },
      "source": [
        "ser = pd.Series(model.feature_importances_,X.columns).sort_values()\n",
        "ser"
      ],
      "execution_count": null,
      "outputs": [
        {
          "output_type": "execute_result",
          "data": {
            "text/plain": [
              "is_quarter_start    0.000371\n",
              "is_month_start      0.004411\n",
              "is_quarter_end      0.006666\n",
              "Holiday             0.013695\n",
              "weekend             0.020430\n",
              "quarter             0.041536\n",
              "dayofweek           0.103284\n",
              "year                0.148397\n",
              "month               0.177944\n",
              "is_month_end        0.217071\n",
              "day                 0.266195\n",
              "dtype: float64"
            ]
          },
          "metadata": {
            "tags": []
          },
          "execution_count": 56
        }
      ]
    },
    {
      "cell_type": "code",
      "metadata": {
        "id": "0OAzsWAAmfx2",
        "colab": {
          "base_uri": "https://localhost:8080/",
          "height": 198
        },
        "outputId": "90979130-2453-4e9c-8987-fdaf7a9b9669"
      },
      "source": [
        "df_test.head()"
      ],
      "execution_count": null,
      "outputs": [
        {
          "output_type": "execute_result",
          "data": {
            "text/html": [
              "<div>\n",
              "<style scoped>\n",
              "    .dataframe tbody tr th:only-of-type {\n",
              "        vertical-align: middle;\n",
              "    }\n",
              "\n",
              "    .dataframe tbody tr th {\n",
              "        vertical-align: top;\n",
              "    }\n",
              "\n",
              "    .dataframe thead th {\n",
              "        text-align: right;\n",
              "    }\n",
              "</style>\n",
              "<table border=\"1\" class=\"dataframe\">\n",
              "  <thead>\n",
              "    <tr style=\"text-align: right;\">\n",
              "      <th></th>\n",
              "      <th>id</th>\n",
              "      <th>application_date</th>\n",
              "      <th>segment</th>\n",
              "      <th>Holiday</th>\n",
              "      <th>year</th>\n",
              "      <th>month</th>\n",
              "      <th>dayofweek</th>\n",
              "      <th>day</th>\n",
              "      <th>quarter</th>\n",
              "      <th>is_month_start</th>\n",
              "      <th>is_month_end</th>\n",
              "      <th>is_quarter_start</th>\n",
              "      <th>is_quarter_end</th>\n",
              "      <th>weekend</th>\n",
              "    </tr>\n",
              "  </thead>\n",
              "  <tbody>\n",
              "    <tr>\n",
              "      <th>0</th>\n",
              "      <td>1</td>\n",
              "      <td>2019-07-06</td>\n",
              "      <td>1</td>\n",
              "      <td>0</td>\n",
              "      <td>2019</td>\n",
              "      <td>7</td>\n",
              "      <td>5</td>\n",
              "      <td>6</td>\n",
              "      <td>3</td>\n",
              "      <td>False</td>\n",
              "      <td>False</td>\n",
              "      <td>False</td>\n",
              "      <td>False</td>\n",
              "      <td>True</td>\n",
              "    </tr>\n",
              "    <tr>\n",
              "      <th>1</th>\n",
              "      <td>2</td>\n",
              "      <td>2019-07-07</td>\n",
              "      <td>1</td>\n",
              "      <td>0</td>\n",
              "      <td>2019</td>\n",
              "      <td>7</td>\n",
              "      <td>6</td>\n",
              "      <td>7</td>\n",
              "      <td>3</td>\n",
              "      <td>False</td>\n",
              "      <td>False</td>\n",
              "      <td>False</td>\n",
              "      <td>False</td>\n",
              "      <td>True</td>\n",
              "    </tr>\n",
              "    <tr>\n",
              "      <th>2</th>\n",
              "      <td>3</td>\n",
              "      <td>2019-07-08</td>\n",
              "      <td>1</td>\n",
              "      <td>0</td>\n",
              "      <td>2019</td>\n",
              "      <td>7</td>\n",
              "      <td>0</td>\n",
              "      <td>8</td>\n",
              "      <td>3</td>\n",
              "      <td>False</td>\n",
              "      <td>False</td>\n",
              "      <td>False</td>\n",
              "      <td>False</td>\n",
              "      <td>False</td>\n",
              "    </tr>\n",
              "    <tr>\n",
              "      <th>3</th>\n",
              "      <td>4</td>\n",
              "      <td>2019-07-09</td>\n",
              "      <td>1</td>\n",
              "      <td>0</td>\n",
              "      <td>2019</td>\n",
              "      <td>7</td>\n",
              "      <td>1</td>\n",
              "      <td>9</td>\n",
              "      <td>3</td>\n",
              "      <td>False</td>\n",
              "      <td>False</td>\n",
              "      <td>False</td>\n",
              "      <td>False</td>\n",
              "      <td>False</td>\n",
              "    </tr>\n",
              "    <tr>\n",
              "      <th>4</th>\n",
              "      <td>5</td>\n",
              "      <td>2019-07-10</td>\n",
              "      <td>1</td>\n",
              "      <td>0</td>\n",
              "      <td>2019</td>\n",
              "      <td>7</td>\n",
              "      <td>2</td>\n",
              "      <td>10</td>\n",
              "      <td>3</td>\n",
              "      <td>False</td>\n",
              "      <td>False</td>\n",
              "      <td>False</td>\n",
              "      <td>False</td>\n",
              "      <td>False</td>\n",
              "    </tr>\n",
              "  </tbody>\n",
              "</table>\n",
              "</div>"
            ],
            "text/plain": [
              "   id application_date  segment  ...  is_quarter_start  is_quarter_end  weekend\n",
              "0   1       2019-07-06        1  ...             False           False     True\n",
              "1   2       2019-07-07        1  ...             False           False     True\n",
              "2   3       2019-07-08        1  ...             False           False    False\n",
              "3   4       2019-07-09        1  ...             False           False    False\n",
              "4   5       2019-07-10        1  ...             False           False    False\n",
              "\n",
              "[5 rows x 14 columns]"
            ]
          },
          "metadata": {
            "tags": []
          },
          "execution_count": 70
        }
      ]
    },
    {
      "cell_type": "code",
      "metadata": {
        "id": "I_adSgCqsAKa"
      },
      "source": [
        "df_test['year'] = df_test.application_date.dt.year\n",
        "df_test['month'] = df_test.application_date.dt.month\n",
        "df_test['dayofweek'] = df_test.application_date.dt.dayofweek\n",
        "df_test['day'] = df_test.application_date.dt.day\n",
        "df_test['quarter'] = df_test.application_date.dt.quarter\n",
        "df_test['is_month_start'] = df_test.application_date.dt.is_month_start\n",
        "df_test['is_month_end'] = df_test.application_date.dt.is_month_end\n",
        "df_test['is_quarter_start'] = df_test.application_date.dt.is_quarter_start\n",
        "df_test['is_quarter_end'] = df_test.application_date.dt.is_quarter_end\n",
        "df_test['weekend'] = df_test['dayofweek'].apply(weekend_indicator)\n"
      ],
      "execution_count": null,
      "outputs": []
    },
    {
      "cell_type": "code",
      "metadata": {
        "id": "4DMoedNKna9M"
      },
      "source": [
        "df_test_segment1 = df_test[df_test['segment']==1]\n"
      ],
      "execution_count": null,
      "outputs": []
    },
    {
      "cell_type": "code",
      "metadata": {
        "id": "b_s_MsTloPPZ",
        "colab": {
          "base_uri": "https://localhost:8080/",
          "height": 198
        },
        "outputId": "ffb1d41a-5855-4387-d919-ccc3f403d4dd"
      },
      "source": [
        "df_test_segment1.head()"
      ],
      "execution_count": null,
      "outputs": [
        {
          "output_type": "execute_result",
          "data": {
            "text/html": [
              "<div>\n",
              "<style scoped>\n",
              "    .dataframe tbody tr th:only-of-type {\n",
              "        vertical-align: middle;\n",
              "    }\n",
              "\n",
              "    .dataframe tbody tr th {\n",
              "        vertical-align: top;\n",
              "    }\n",
              "\n",
              "    .dataframe thead th {\n",
              "        text-align: right;\n",
              "    }\n",
              "</style>\n",
              "<table border=\"1\" class=\"dataframe\">\n",
              "  <thead>\n",
              "    <tr style=\"text-align: right;\">\n",
              "      <th></th>\n",
              "      <th>id</th>\n",
              "      <th>application_date</th>\n",
              "      <th>segment</th>\n",
              "      <th>Holiday</th>\n",
              "      <th>year</th>\n",
              "      <th>month</th>\n",
              "      <th>dayofweek</th>\n",
              "      <th>day</th>\n",
              "      <th>quarter</th>\n",
              "      <th>is_month_start</th>\n",
              "      <th>is_month_end</th>\n",
              "      <th>is_quarter_start</th>\n",
              "      <th>is_quarter_end</th>\n",
              "      <th>weekend</th>\n",
              "    </tr>\n",
              "  </thead>\n",
              "  <tbody>\n",
              "    <tr>\n",
              "      <th>0</th>\n",
              "      <td>1</td>\n",
              "      <td>2019-07-06</td>\n",
              "      <td>1</td>\n",
              "      <td>0</td>\n",
              "      <td>2019</td>\n",
              "      <td>7</td>\n",
              "      <td>5</td>\n",
              "      <td>6</td>\n",
              "      <td>3</td>\n",
              "      <td>False</td>\n",
              "      <td>False</td>\n",
              "      <td>False</td>\n",
              "      <td>False</td>\n",
              "      <td>True</td>\n",
              "    </tr>\n",
              "    <tr>\n",
              "      <th>1</th>\n",
              "      <td>2</td>\n",
              "      <td>2019-07-07</td>\n",
              "      <td>1</td>\n",
              "      <td>0</td>\n",
              "      <td>2019</td>\n",
              "      <td>7</td>\n",
              "      <td>6</td>\n",
              "      <td>7</td>\n",
              "      <td>3</td>\n",
              "      <td>False</td>\n",
              "      <td>False</td>\n",
              "      <td>False</td>\n",
              "      <td>False</td>\n",
              "      <td>True</td>\n",
              "    </tr>\n",
              "    <tr>\n",
              "      <th>2</th>\n",
              "      <td>3</td>\n",
              "      <td>2019-07-08</td>\n",
              "      <td>1</td>\n",
              "      <td>0</td>\n",
              "      <td>2019</td>\n",
              "      <td>7</td>\n",
              "      <td>0</td>\n",
              "      <td>8</td>\n",
              "      <td>3</td>\n",
              "      <td>False</td>\n",
              "      <td>False</td>\n",
              "      <td>False</td>\n",
              "      <td>False</td>\n",
              "      <td>False</td>\n",
              "    </tr>\n",
              "    <tr>\n",
              "      <th>3</th>\n",
              "      <td>4</td>\n",
              "      <td>2019-07-09</td>\n",
              "      <td>1</td>\n",
              "      <td>0</td>\n",
              "      <td>2019</td>\n",
              "      <td>7</td>\n",
              "      <td>1</td>\n",
              "      <td>9</td>\n",
              "      <td>3</td>\n",
              "      <td>False</td>\n",
              "      <td>False</td>\n",
              "      <td>False</td>\n",
              "      <td>False</td>\n",
              "      <td>False</td>\n",
              "    </tr>\n",
              "    <tr>\n",
              "      <th>4</th>\n",
              "      <td>5</td>\n",
              "      <td>2019-07-10</td>\n",
              "      <td>1</td>\n",
              "      <td>0</td>\n",
              "      <td>2019</td>\n",
              "      <td>7</td>\n",
              "      <td>2</td>\n",
              "      <td>10</td>\n",
              "      <td>3</td>\n",
              "      <td>False</td>\n",
              "      <td>False</td>\n",
              "      <td>False</td>\n",
              "      <td>False</td>\n",
              "      <td>False</td>\n",
              "    </tr>\n",
              "  </tbody>\n",
              "</table>\n",
              "</div>"
            ],
            "text/plain": [
              "   id application_date  segment  ...  is_quarter_start  is_quarter_end  weekend\n",
              "0   1       2019-07-06        1  ...             False           False     True\n",
              "1   2       2019-07-07        1  ...             False           False     True\n",
              "2   3       2019-07-08        1  ...             False           False    False\n",
              "3   4       2019-07-09        1  ...             False           False    False\n",
              "4   5       2019-07-10        1  ...             False           False    False\n",
              "\n",
              "[5 rows x 14 columns]"
            ]
          },
          "metadata": {
            "tags": []
          },
          "execution_count": 72
        }
      ]
    },
    {
      "cell_type": "code",
      "metadata": {
        "id": "98gC5TT4oXyM",
        "colab": {
          "base_uri": "https://localhost:8080/",
          "height": 108
        },
        "outputId": "ea676616-b15a-4b9f-d989-30df9948180c"
      },
      "source": [
        "df_test_segment1.drop(['application_date','segment','id'],axis = 1,inplace= True)"
      ],
      "execution_count": null,
      "outputs": [
        {
          "output_type": "stream",
          "text": [
            "/usr/local/lib/python3.6/dist-packages/pandas/core/frame.py:4117: SettingWithCopyWarning: \n",
            "A value is trying to be set on a copy of a slice from a DataFrame\n",
            "\n",
            "See the caveats in the documentation: http://pandas.pydata.org/pandas-docs/stable/user_guide/indexing.html#returning-a-view-versus-a-copy\n",
            "  errors=errors,\n"
          ],
          "name": "stderr"
        }
      ]
    },
    {
      "cell_type": "code",
      "metadata": {
        "id": "Xtxbggy-oli7"
      },
      "source": [
        "Submission.loc[Submission['segment']==1,'case_count'] = model.predict(df_test_segment1)"
      ],
      "execution_count": null,
      "outputs": []
    },
    {
      "cell_type": "code",
      "metadata": {
        "id": "5QCcYH1Mp539"
      },
      "source": [
        ""
      ],
      "execution_count": null,
      "outputs": []
    },
    {
      "cell_type": "markdown",
      "metadata": {
        "id": "fMxdl8u3p5D4"
      },
      "source": [
        "**Model Building for segment 2**"
      ]
    },
    {
      "cell_type": "code",
      "metadata": {
        "id": "Znsy83rtp_EG",
        "colab": {
          "base_uri": "https://localhost:8080/",
          "height": 35
        },
        "outputId": "97767579-1855-4491-ed61-5d37e97ee65c"
      },
      "source": [
        "df = df_train[df_train['segment']==2]\n",
        "df.shape"
      ],
      "execution_count": null,
      "outputs": [
        {
          "output_type": "execute_result",
          "data": {
            "text/plain": [
              "(844, 9)"
            ]
          },
          "metadata": {
            "tags": []
          },
          "execution_count": 78
        }
      ]
    },
    {
      "cell_type": "code",
      "metadata": {
        "id": "XaB3chAqqQg3",
        "colab": {
          "base_uri": "https://localhost:8080/",
          "height": 1000
        },
        "outputId": "3c5339f5-18b2-40cf-e912-613db1ce49ba"
      },
      "source": [
        "#creating additional datatime features\n",
        "df['year'] = df.application_date.dt.year\n",
        "df['month'] = df.application_date.dt.month\n",
        "df['dayofweek'] = df.application_date.dt.dayofweek\n",
        "df['day'] = df.application_date.dt.day\n",
        "df['quarter'] = df.application_date.dt.quarter\n",
        "df['is_month_start'] = df.application_date.dt.is_month_start\n",
        "df['is_month_end'] = df.application_date.dt.is_month_end\n",
        "df['is_quarter_start'] = df.application_date.dt.is_quarter_start\n",
        "df['is_quarter_end'] = df.application_date.dt.is_quarter_end\n",
        "df['weekend'] = df['dayofweek'].apply(weekend_indicator)"
      ],
      "execution_count": null,
      "outputs": [
        {
          "output_type": "stream",
          "text": [
            "/usr/local/lib/python3.6/dist-packages/ipykernel_launcher.py:1: SettingWithCopyWarning: \n",
            "A value is trying to be set on a copy of a slice from a DataFrame.\n",
            "Try using .loc[row_indexer,col_indexer] = value instead\n",
            "\n",
            "See the caveats in the documentation: http://pandas.pydata.org/pandas-docs/stable/user_guide/indexing.html#returning-a-view-versus-a-copy\n",
            "  \"\"\"Entry point for launching an IPython kernel.\n",
            "/usr/local/lib/python3.6/dist-packages/ipykernel_launcher.py:2: SettingWithCopyWarning: \n",
            "A value is trying to be set on a copy of a slice from a DataFrame.\n",
            "Try using .loc[row_indexer,col_indexer] = value instead\n",
            "\n",
            "See the caveats in the documentation: http://pandas.pydata.org/pandas-docs/stable/user_guide/indexing.html#returning-a-view-versus-a-copy\n",
            "  \n",
            "/usr/local/lib/python3.6/dist-packages/ipykernel_launcher.py:3: SettingWithCopyWarning: \n",
            "A value is trying to be set on a copy of a slice from a DataFrame.\n",
            "Try using .loc[row_indexer,col_indexer] = value instead\n",
            "\n",
            "See the caveats in the documentation: http://pandas.pydata.org/pandas-docs/stable/user_guide/indexing.html#returning-a-view-versus-a-copy\n",
            "  This is separate from the ipykernel package so we can avoid doing imports until\n",
            "/usr/local/lib/python3.6/dist-packages/ipykernel_launcher.py:4: SettingWithCopyWarning: \n",
            "A value is trying to be set on a copy of a slice from a DataFrame.\n",
            "Try using .loc[row_indexer,col_indexer] = value instead\n",
            "\n",
            "See the caveats in the documentation: http://pandas.pydata.org/pandas-docs/stable/user_guide/indexing.html#returning-a-view-versus-a-copy\n",
            "  after removing the cwd from sys.path.\n",
            "/usr/local/lib/python3.6/dist-packages/ipykernel_launcher.py:5: SettingWithCopyWarning: \n",
            "A value is trying to be set on a copy of a slice from a DataFrame.\n",
            "Try using .loc[row_indexer,col_indexer] = value instead\n",
            "\n",
            "See the caveats in the documentation: http://pandas.pydata.org/pandas-docs/stable/user_guide/indexing.html#returning-a-view-versus-a-copy\n",
            "  \"\"\"\n",
            "/usr/local/lib/python3.6/dist-packages/ipykernel_launcher.py:6: SettingWithCopyWarning: \n",
            "A value is trying to be set on a copy of a slice from a DataFrame.\n",
            "Try using .loc[row_indexer,col_indexer] = value instead\n",
            "\n",
            "See the caveats in the documentation: http://pandas.pydata.org/pandas-docs/stable/user_guide/indexing.html#returning-a-view-versus-a-copy\n",
            "  \n",
            "/usr/local/lib/python3.6/dist-packages/ipykernel_launcher.py:7: SettingWithCopyWarning: \n",
            "A value is trying to be set on a copy of a slice from a DataFrame.\n",
            "Try using .loc[row_indexer,col_indexer] = value instead\n",
            "\n",
            "See the caveats in the documentation: http://pandas.pydata.org/pandas-docs/stable/user_guide/indexing.html#returning-a-view-versus-a-copy\n",
            "  import sys\n",
            "/usr/local/lib/python3.6/dist-packages/ipykernel_launcher.py:8: SettingWithCopyWarning: \n",
            "A value is trying to be set on a copy of a slice from a DataFrame.\n",
            "Try using .loc[row_indexer,col_indexer] = value instead\n",
            "\n",
            "See the caveats in the documentation: http://pandas.pydata.org/pandas-docs/stable/user_guide/indexing.html#returning-a-view-versus-a-copy\n",
            "  \n",
            "/usr/local/lib/python3.6/dist-packages/ipykernel_launcher.py:9: SettingWithCopyWarning: \n",
            "A value is trying to be set on a copy of a slice from a DataFrame.\n",
            "Try using .loc[row_indexer,col_indexer] = value instead\n",
            "\n",
            "See the caveats in the documentation: http://pandas.pydata.org/pandas-docs/stable/user_guide/indexing.html#returning-a-view-versus-a-copy\n",
            "  if __name__ == '__main__':\n",
            "/usr/local/lib/python3.6/dist-packages/ipykernel_launcher.py:10: SettingWithCopyWarning: \n",
            "A value is trying to be set on a copy of a slice from a DataFrame.\n",
            "Try using .loc[row_indexer,col_indexer] = value instead\n",
            "\n",
            "See the caveats in the documentation: http://pandas.pydata.org/pandas-docs/stable/user_guide/indexing.html#returning-a-view-versus-a-copy\n",
            "  # Remove the CWD from sys.path while we load stuff.\n"
          ],
          "name": "stderr"
        }
      ]
    },
    {
      "cell_type": "code",
      "metadata": {
        "id": "wR-K4WkSqg2q"
      },
      "source": [
        "cols = ['year','month','dayofweek','day','quarter']\n",
        "for col in cols:\n",
        "    df_train[col] = df[col].astype('category')"
      ],
      "execution_count": null,
      "outputs": []
    },
    {
      "cell_type": "code",
      "metadata": {
        "id": "h0yz1MNkqmac"
      },
      "source": [
        "y = df['case_count']\n",
        "X  = df[[col for col in df.columns if col not in ['application_date','segment','case_count']]]"
      ],
      "execution_count": null,
      "outputs": []
    },
    {
      "cell_type": "code",
      "metadata": {
        "id": "ay_pmCTxq9u7"
      },
      "source": [
        "X_train,X_test,y_train,y_test = train_test_split(X,y,random_state = 42,shuffle = False)"
      ],
      "execution_count": null,
      "outputs": []
    },
    {
      "cell_type": "code",
      "metadata": {
        "id": "alSRDnz2rURs",
        "colab": {
          "base_uri": "https://localhost:8080/",
          "height": 90
        },
        "outputId": "6c4ee8e7-b4e0-4c95-8017-1f57f6ac8e9b"
      },
      "source": [
        "print(X_train.shape)\n",
        "print(X_test.shape)\n",
        "print(y_train.shape)\n",
        "print(y_test.shape)"
      ],
      "execution_count": null,
      "outputs": [
        {
          "output_type": "stream",
          "text": [
            "(633, 11)\n",
            "(211, 11)\n",
            "(633,)\n",
            "(211,)\n"
          ],
          "name": "stdout"
        }
      ]
    },
    {
      "cell_type": "code",
      "metadata": {
        "id": "ihnZYOt9rEkA"
      },
      "source": [
        "model = model.fit(X_train,y_train)"
      ],
      "execution_count": null,
      "outputs": []
    },
    {
      "cell_type": "code",
      "metadata": {
        "id": "X2fc-30NrqV7",
        "colab": {
          "base_uri": "https://localhost:8080/",
          "height": 145
        },
        "outputId": "9e8463e1-a87d-4a9f-efb2-f6063d20bc25"
      },
      "source": [
        "model"
      ],
      "execution_count": null,
      "outputs": [
        {
          "output_type": "execute_result",
          "data": {
            "text/plain": [
              "RandomForestRegressor(bootstrap=True, ccp_alpha=0.0, criterion='mse',\n",
              "                      max_depth=None, max_features='auto', max_leaf_nodes=None,\n",
              "                      max_samples=None, min_impurity_decrease=0.0,\n",
              "                      min_impurity_split=None, min_samples_leaf=2,\n",
              "                      min_samples_split=2, min_weight_fraction_leaf=0.0,\n",
              "                      n_estimators=1000, n_jobs=1, oob_score=False,\n",
              "                      random_state=42, verbose=0, warm_start=False)"
            ]
          },
          "metadata": {
            "tags": []
          },
          "execution_count": 89
        }
      ]
    },
    {
      "cell_type": "code",
      "metadata": {
        "id": "-5HOPPLFr7us"
      },
      "source": [
        "y_pred = model.predict(X_test)"
      ],
      "execution_count": null,
      "outputs": []
    },
    {
      "cell_type": "code",
      "metadata": {
        "id": "pYgkMkWTsDLs",
        "colab": {
          "base_uri": "https://localhost:8080/",
          "height": 35
        },
        "outputId": "ab69cb4e-8957-4772-c791-8c390025f3f0"
      },
      "source": [
        "mape_segment2 = mean_absolute_percentage_error(y_test,y_pred)\n",
        "mape_segment2"
      ],
      "execution_count": null,
      "outputs": [
        {
          "output_type": "execute_result",
          "data": {
            "text/plain": [
              "32.079699557589656"
            ]
          },
          "metadata": {
            "tags": []
          },
          "execution_count": 91
        }
      ]
    },
    {
      "cell_type": "code",
      "metadata": {
        "id": "sUw0Bp_rsQB6",
        "colab": {
          "base_uri": "https://localhost:8080/",
          "height": 235
        },
        "outputId": "2051369b-4461-48a6-83e0-7c10d00fe864"
      },
      "source": [
        "ser = pd.Series(model.feature_importances_,X.columns).sort_values()\n",
        "ser"
      ],
      "execution_count": null,
      "outputs": [
        {
          "output_type": "execute_result",
          "data": {
            "text/plain": [
              "is_quarter_end      0.000002\n",
              "is_quarter_start    0.000257\n",
              "is_month_start      0.000489\n",
              "is_month_end        0.001466\n",
              "weekend             0.001581\n",
              "Holiday             0.005588\n",
              "quarter             0.021860\n",
              "dayofweek           0.058379\n",
              "month               0.081728\n",
              "year                0.166027\n",
              "day                 0.662622\n",
              "dtype: float64"
            ]
          },
          "metadata": {
            "tags": []
          },
          "execution_count": 92
        }
      ]
    },
    {
      "cell_type": "code",
      "metadata": {
        "id": "ORashWMMstiH",
        "colab": {
          "base_uri": "https://localhost:8080/",
          "height": 35
        },
        "outputId": "18a4edaf-b0dd-4c09-dc3b-1bbcfe45cdb0"
      },
      "source": [
        "final_mape = 0.5*mape_segment1 + 0.5*mape_segment2\n",
        "final_mape"
      ],
      "execution_count": null,
      "outputs": [
        {
          "output_type": "execute_result",
          "data": {
            "text/plain": [
              "30.422220579419722"
            ]
          },
          "metadata": {
            "tags": []
          },
          "execution_count": 93
        }
      ]
    },
    {
      "cell_type": "code",
      "metadata": {
        "id": "r23hzNF2s74m"
      },
      "source": [
        "df_test_segment2  =df_test[df_test['segment']==2]"
      ],
      "execution_count": null,
      "outputs": []
    },
    {
      "cell_type": "code",
      "metadata": {
        "id": "--6X1hlxwV_6",
        "colab": {
          "base_uri": "https://localhost:8080/",
          "height": 108
        },
        "outputId": "60fa43bc-dfee-431d-87c9-fec3cc66cabd"
      },
      "source": [
        "df_test_segment2.drop(['application_date','segment','id'],axis=1,inplace = True)"
      ],
      "execution_count": null,
      "outputs": [
        {
          "output_type": "stream",
          "text": [
            "/usr/local/lib/python3.6/dist-packages/pandas/core/frame.py:4117: SettingWithCopyWarning: \n",
            "A value is trying to be set on a copy of a slice from a DataFrame\n",
            "\n",
            "See the caveats in the documentation: http://pandas.pydata.org/pandas-docs/stable/user_guide/indexing.html#returning-a-view-versus-a-copy\n",
            "  errors=errors,\n"
          ],
          "name": "stderr"
        }
      ]
    },
    {
      "cell_type": "code",
      "metadata": {
        "id": "8rWJsTWAwr16"
      },
      "source": [
        "Submission.loc[Submission['segment'] == 2,'case_count'] = model.predict(df_test_segment2)"
      ],
      "execution_count": null,
      "outputs": []
    },
    {
      "cell_type": "code",
      "metadata": {
        "id": "_2r1QGzxrtyE"
      },
      "source": [
        "Submission['case_count'] = Submission['case_count'].astype(int)"
      ],
      "execution_count": null,
      "outputs": []
    },
    {
      "cell_type": "code",
      "metadata": {
        "id": "DTeoPT1lxgJe"
      },
      "source": [
        "Submission.to_csv('First_submission.csv',index=None)"
      ],
      "execution_count": null,
      "outputs": []
    },
    {
      "cell_type": "code",
      "metadata": {
        "id": "E8Q91k4Ax5YT"
      },
      "source": [
        "from google.colab import files\n",
        "files.download(\"First_submission.csv\")"
      ],
      "execution_count": null,
      "outputs": []
    }
  ]
}